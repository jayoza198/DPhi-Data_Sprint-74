{
  "nbformat": 4,
  "nbformat_minor": 0,
  "metadata": {
    "colab": {
      "name": "Smoking_data.ipynb",
      "provenance": []
    },
    "kernelspec": {
      "name": "python3",
      "display_name": "Python 3"
    },
    "language_info": {
      "name": "python"
    }
  },
  "cells": [
    {
      "cell_type": "markdown",
      "source": [
        "Importing Libraries"
      ],
      "metadata": {
        "id": "V4bXLSqXp-7N"
      }
    },
    {
      "cell_type": "code",
      "execution_count": null,
      "metadata": {
        "id": "oDvOJq4BHrZW"
      },
      "outputs": [],
      "source": [
        "import numpy as np\n",
        "import pandas as pd\n",
        "from sklearn.model_selection import train_test_split\n",
        "from sklearn.linear_model import LogisticRegression\n",
        "from sklearn.metrics import accuracy_score"
      ]
    },
    {
      "cell_type": "markdown",
      "source": [
        "Reading the data\n"
      ],
      "metadata": {
        "id": "F3gcGUZuqHGO"
      }
    },
    {
      "cell_type": "code",
      "source": [
        "smoke_data=pd.read_csv(\"/content/drive/MyDrive/CSV files/train_dataset.csv\")\n"
      ],
      "metadata": {
        "id": "mrTEV0g_IJLp"
      },
      "execution_count": null,
      "outputs": []
    },
    {
      "cell_type": "markdown",
      "source": [
        "Analysing the Data"
      ],
      "metadata": {
        "id": "V_vVHY06qJWM"
      }
    },
    {
      "cell_type": "code",
      "source": [
        "smoke_data.head()"
      ],
      "metadata": {
        "colab": {
          "base_uri": "https://localhost:8080/",
          "height": 317
        },
        "id": "jhy34ZZqI7tH",
        "outputId": "0203c329-5ad5-44a0-e7db-4f029d5c3c89"
      },
      "execution_count": null,
      "outputs": [
        {
          "output_type": "execute_result",
          "data": {
            "text/plain": [
              "   age  height(cm)  weight(kg)  waist(cm)  eyesight(left)  eyesight(right)  \\\n",
              "0   35         170          85       97.0             0.9              0.9   \n",
              "1   20         175         110      110.0             0.7              0.9   \n",
              "2   45         155          65       86.0             0.9              0.9   \n",
              "3   45         165          80       94.0             0.8              0.7   \n",
              "4   20         165          60       81.0             1.5              0.1   \n",
              "\n",
              "   hearing(left)  hearing(right)  systolic  relaxation  ...  HDL  LDL  \\\n",
              "0              1               1       118          78  ...   70  142   \n",
              "1              1               1       119          79  ...   71  114   \n",
              "2              1               1       110          80  ...   57  112   \n",
              "3              1               1       158          88  ...   46   91   \n",
              "4              1               1       109          64  ...   47   92   \n",
              "\n",
              "   hemoglobin  Urine protein  serum creatinine   AST   ALT  Gtp  \\\n",
              "0        19.8              1               1.0    61   115  125   \n",
              "1        15.9              1               1.1    19    25   30   \n",
              "2        13.7              3               0.6  1090  1400  276   \n",
              "3        16.9              1               0.9    32    36   36   \n",
              "4        14.9              1               1.2    26    28   15   \n",
              "\n",
              "   dental caries  smoking  \n",
              "0              1        1  \n",
              "1              1        0  \n",
              "2              0        0  \n",
              "3              0        0  \n",
              "4              0        0  \n",
              "\n",
              "[5 rows x 23 columns]"
            ],
            "text/html": [
              "\n",
              "  <div id=\"df-d5899f35-649f-49d9-b2fc-a7a53e921733\">\n",
              "    <div class=\"colab-df-container\">\n",
              "      <div>\n",
              "<style scoped>\n",
              "    .dataframe tbody tr th:only-of-type {\n",
              "        vertical-align: middle;\n",
              "    }\n",
              "\n",
              "    .dataframe tbody tr th {\n",
              "        vertical-align: top;\n",
              "    }\n",
              "\n",
              "    .dataframe thead th {\n",
              "        text-align: right;\n",
              "    }\n",
              "</style>\n",
              "<table border=\"1\" class=\"dataframe\">\n",
              "  <thead>\n",
              "    <tr style=\"text-align: right;\">\n",
              "      <th></th>\n",
              "      <th>age</th>\n",
              "      <th>height(cm)</th>\n",
              "      <th>weight(kg)</th>\n",
              "      <th>waist(cm)</th>\n",
              "      <th>eyesight(left)</th>\n",
              "      <th>eyesight(right)</th>\n",
              "      <th>hearing(left)</th>\n",
              "      <th>hearing(right)</th>\n",
              "      <th>systolic</th>\n",
              "      <th>relaxation</th>\n",
              "      <th>...</th>\n",
              "      <th>HDL</th>\n",
              "      <th>LDL</th>\n",
              "      <th>hemoglobin</th>\n",
              "      <th>Urine protein</th>\n",
              "      <th>serum creatinine</th>\n",
              "      <th>AST</th>\n",
              "      <th>ALT</th>\n",
              "      <th>Gtp</th>\n",
              "      <th>dental caries</th>\n",
              "      <th>smoking</th>\n",
              "    </tr>\n",
              "  </thead>\n",
              "  <tbody>\n",
              "    <tr>\n",
              "      <th>0</th>\n",
              "      <td>35</td>\n",
              "      <td>170</td>\n",
              "      <td>85</td>\n",
              "      <td>97.0</td>\n",
              "      <td>0.9</td>\n",
              "      <td>0.9</td>\n",
              "      <td>1</td>\n",
              "      <td>1</td>\n",
              "      <td>118</td>\n",
              "      <td>78</td>\n",
              "      <td>...</td>\n",
              "      <td>70</td>\n",
              "      <td>142</td>\n",
              "      <td>19.8</td>\n",
              "      <td>1</td>\n",
              "      <td>1.0</td>\n",
              "      <td>61</td>\n",
              "      <td>115</td>\n",
              "      <td>125</td>\n",
              "      <td>1</td>\n",
              "      <td>1</td>\n",
              "    </tr>\n",
              "    <tr>\n",
              "      <th>1</th>\n",
              "      <td>20</td>\n",
              "      <td>175</td>\n",
              "      <td>110</td>\n",
              "      <td>110.0</td>\n",
              "      <td>0.7</td>\n",
              "      <td>0.9</td>\n",
              "      <td>1</td>\n",
              "      <td>1</td>\n",
              "      <td>119</td>\n",
              "      <td>79</td>\n",
              "      <td>...</td>\n",
              "      <td>71</td>\n",
              "      <td>114</td>\n",
              "      <td>15.9</td>\n",
              "      <td>1</td>\n",
              "      <td>1.1</td>\n",
              "      <td>19</td>\n",
              "      <td>25</td>\n",
              "      <td>30</td>\n",
              "      <td>1</td>\n",
              "      <td>0</td>\n",
              "    </tr>\n",
              "    <tr>\n",
              "      <th>2</th>\n",
              "      <td>45</td>\n",
              "      <td>155</td>\n",
              "      <td>65</td>\n",
              "      <td>86.0</td>\n",
              "      <td>0.9</td>\n",
              "      <td>0.9</td>\n",
              "      <td>1</td>\n",
              "      <td>1</td>\n",
              "      <td>110</td>\n",
              "      <td>80</td>\n",
              "      <td>...</td>\n",
              "      <td>57</td>\n",
              "      <td>112</td>\n",
              "      <td>13.7</td>\n",
              "      <td>3</td>\n",
              "      <td>0.6</td>\n",
              "      <td>1090</td>\n",
              "      <td>1400</td>\n",
              "      <td>276</td>\n",
              "      <td>0</td>\n",
              "      <td>0</td>\n",
              "    </tr>\n",
              "    <tr>\n",
              "      <th>3</th>\n",
              "      <td>45</td>\n",
              "      <td>165</td>\n",
              "      <td>80</td>\n",
              "      <td>94.0</td>\n",
              "      <td>0.8</td>\n",
              "      <td>0.7</td>\n",
              "      <td>1</td>\n",
              "      <td>1</td>\n",
              "      <td>158</td>\n",
              "      <td>88</td>\n",
              "      <td>...</td>\n",
              "      <td>46</td>\n",
              "      <td>91</td>\n",
              "      <td>16.9</td>\n",
              "      <td>1</td>\n",
              "      <td>0.9</td>\n",
              "      <td>32</td>\n",
              "      <td>36</td>\n",
              "      <td>36</td>\n",
              "      <td>0</td>\n",
              "      <td>0</td>\n",
              "    </tr>\n",
              "    <tr>\n",
              "      <th>4</th>\n",
              "      <td>20</td>\n",
              "      <td>165</td>\n",
              "      <td>60</td>\n",
              "      <td>81.0</td>\n",
              "      <td>1.5</td>\n",
              "      <td>0.1</td>\n",
              "      <td>1</td>\n",
              "      <td>1</td>\n",
              "      <td>109</td>\n",
              "      <td>64</td>\n",
              "      <td>...</td>\n",
              "      <td>47</td>\n",
              "      <td>92</td>\n",
              "      <td>14.9</td>\n",
              "      <td>1</td>\n",
              "      <td>1.2</td>\n",
              "      <td>26</td>\n",
              "      <td>28</td>\n",
              "      <td>15</td>\n",
              "      <td>0</td>\n",
              "      <td>0</td>\n",
              "    </tr>\n",
              "  </tbody>\n",
              "</table>\n",
              "<p>5 rows × 23 columns</p>\n",
              "</div>\n",
              "      <button class=\"colab-df-convert\" onclick=\"convertToInteractive('df-d5899f35-649f-49d9-b2fc-a7a53e921733')\"\n",
              "              title=\"Convert this dataframe to an interactive table.\"\n",
              "              style=\"display:none;\">\n",
              "        \n",
              "  <svg xmlns=\"http://www.w3.org/2000/svg\" height=\"24px\"viewBox=\"0 0 24 24\"\n",
              "       width=\"24px\">\n",
              "    <path d=\"M0 0h24v24H0V0z\" fill=\"none\"/>\n",
              "    <path d=\"M18.56 5.44l.94 2.06.94-2.06 2.06-.94-2.06-.94-.94-2.06-.94 2.06-2.06.94zm-11 1L8.5 8.5l.94-2.06 2.06-.94-2.06-.94L8.5 2.5l-.94 2.06-2.06.94zm10 10l.94 2.06.94-2.06 2.06-.94-2.06-.94-.94-2.06-.94 2.06-2.06.94z\"/><path d=\"M17.41 7.96l-1.37-1.37c-.4-.4-.92-.59-1.43-.59-.52 0-1.04.2-1.43.59L10.3 9.45l-7.72 7.72c-.78.78-.78 2.05 0 2.83L4 21.41c.39.39.9.59 1.41.59.51 0 1.02-.2 1.41-.59l7.78-7.78 2.81-2.81c.8-.78.8-2.07 0-2.86zM5.41 20L4 18.59l7.72-7.72 1.47 1.35L5.41 20z\"/>\n",
              "  </svg>\n",
              "      </button>\n",
              "      \n",
              "  <style>\n",
              "    .colab-df-container {\n",
              "      display:flex;\n",
              "      flex-wrap:wrap;\n",
              "      gap: 12px;\n",
              "    }\n",
              "\n",
              "    .colab-df-convert {\n",
              "      background-color: #E8F0FE;\n",
              "      border: none;\n",
              "      border-radius: 50%;\n",
              "      cursor: pointer;\n",
              "      display: none;\n",
              "      fill: #1967D2;\n",
              "      height: 32px;\n",
              "      padding: 0 0 0 0;\n",
              "      width: 32px;\n",
              "    }\n",
              "\n",
              "    .colab-df-convert:hover {\n",
              "      background-color: #E2EBFA;\n",
              "      box-shadow: 0px 1px 2px rgba(60, 64, 67, 0.3), 0px 1px 3px 1px rgba(60, 64, 67, 0.15);\n",
              "      fill: #174EA6;\n",
              "    }\n",
              "\n",
              "    [theme=dark] .colab-df-convert {\n",
              "      background-color: #3B4455;\n",
              "      fill: #D2E3FC;\n",
              "    }\n",
              "\n",
              "    [theme=dark] .colab-df-convert:hover {\n",
              "      background-color: #434B5C;\n",
              "      box-shadow: 0px 1px 3px 1px rgba(0, 0, 0, 0.15);\n",
              "      filter: drop-shadow(0px 1px 2px rgba(0, 0, 0, 0.3));\n",
              "      fill: #FFFFFF;\n",
              "    }\n",
              "  </style>\n",
              "\n",
              "      <script>\n",
              "        const buttonEl =\n",
              "          document.querySelector('#df-d5899f35-649f-49d9-b2fc-a7a53e921733 button.colab-df-convert');\n",
              "        buttonEl.style.display =\n",
              "          google.colab.kernel.accessAllowed ? 'block' : 'none';\n",
              "\n",
              "        async function convertToInteractive(key) {\n",
              "          const element = document.querySelector('#df-d5899f35-649f-49d9-b2fc-a7a53e921733');\n",
              "          const dataTable =\n",
              "            await google.colab.kernel.invokeFunction('convertToInteractive',\n",
              "                                                     [key], {});\n",
              "          if (!dataTable) return;\n",
              "\n",
              "          const docLinkHtml = 'Like what you see? Visit the ' +\n",
              "            '<a target=\"_blank\" href=https://colab.research.google.com/notebooks/data_table.ipynb>data table notebook</a>'\n",
              "            + ' to learn more about interactive tables.';\n",
              "          element.innerHTML = '';\n",
              "          dataTable['output_type'] = 'display_data';\n",
              "          await google.colab.output.renderOutput(dataTable, element);\n",
              "          const docLink = document.createElement('div');\n",
              "          docLink.innerHTML = docLinkHtml;\n",
              "          element.appendChild(docLink);\n",
              "        }\n",
              "      </script>\n",
              "    </div>\n",
              "  </div>\n",
              "  "
            ]
          },
          "metadata": {},
          "execution_count": 4
        }
      ]
    },
    {
      "cell_type": "code",
      "source": [
        "smoke_data.tail()"
      ],
      "metadata": {
        "colab": {
          "base_uri": "https://localhost:8080/",
          "height": 317
        },
        "id": "CyGZGJS1JAUM",
        "outputId": "aeb1412d-52f6-4c98-f710-4a71e9d994a5"
      },
      "execution_count": null,
      "outputs": [
        {
          "output_type": "execute_result",
          "data": {
            "text/plain": [
              "       age  height(cm)  weight(kg)  waist(cm)  eyesight(left)  \\\n",
              "38979   40         165          60       80.0             0.4   \n",
              "38980   45         155          55       75.0             1.5   \n",
              "38981   40         170         105      124.0             0.6   \n",
              "38982   40         160          55       75.0             1.5   \n",
              "38983   55         175          60       81.1             1.0   \n",
              "\n",
              "       eyesight(right)  hearing(left)  hearing(right)  systolic  relaxation  \\\n",
              "38979              0.6              1               1       107          60   \n",
              "38980              1.2              1               1       126          72   \n",
              "38981              0.5              1               1       141          85   \n",
              "38982              1.5              1               1        95          69   \n",
              "38983              1.0              1               1       114          66   \n",
              "\n",
              "       ...  HDL  LDL  hemoglobin  Urine protein  serum creatinine  AST  ALT  \\\n",
              "38979  ...   61   72        12.3              1               0.5   18   18   \n",
              "38980  ...   76  131        12.5              2               0.6   23   11   \n",
              "38981  ...   48  138        17.1              1               0.8   24   23   \n",
              "38982  ...   79  116        12.0              1               0.6   24   20   \n",
              "38983  ...   64  137        13.9              1               1.0   18   12   \n",
              "\n",
              "       Gtp  dental caries  smoking  \n",
              "38979   21              1        0  \n",
              "38980   12              0        0  \n",
              "38981   35              1        1  \n",
              "38982   17              0        1  \n",
              "38983   16              0        1  \n",
              "\n",
              "[5 rows x 23 columns]"
            ],
            "text/html": [
              "\n",
              "  <div id=\"df-cd60b40b-022f-4959-9fa6-0c07815c90c5\">\n",
              "    <div class=\"colab-df-container\">\n",
              "      <div>\n",
              "<style scoped>\n",
              "    .dataframe tbody tr th:only-of-type {\n",
              "        vertical-align: middle;\n",
              "    }\n",
              "\n",
              "    .dataframe tbody tr th {\n",
              "        vertical-align: top;\n",
              "    }\n",
              "\n",
              "    .dataframe thead th {\n",
              "        text-align: right;\n",
              "    }\n",
              "</style>\n",
              "<table border=\"1\" class=\"dataframe\">\n",
              "  <thead>\n",
              "    <tr style=\"text-align: right;\">\n",
              "      <th></th>\n",
              "      <th>age</th>\n",
              "      <th>height(cm)</th>\n",
              "      <th>weight(kg)</th>\n",
              "      <th>waist(cm)</th>\n",
              "      <th>eyesight(left)</th>\n",
              "      <th>eyesight(right)</th>\n",
              "      <th>hearing(left)</th>\n",
              "      <th>hearing(right)</th>\n",
              "      <th>systolic</th>\n",
              "      <th>relaxation</th>\n",
              "      <th>...</th>\n",
              "      <th>HDL</th>\n",
              "      <th>LDL</th>\n",
              "      <th>hemoglobin</th>\n",
              "      <th>Urine protein</th>\n",
              "      <th>serum creatinine</th>\n",
              "      <th>AST</th>\n",
              "      <th>ALT</th>\n",
              "      <th>Gtp</th>\n",
              "      <th>dental caries</th>\n",
              "      <th>smoking</th>\n",
              "    </tr>\n",
              "  </thead>\n",
              "  <tbody>\n",
              "    <tr>\n",
              "      <th>38979</th>\n",
              "      <td>40</td>\n",
              "      <td>165</td>\n",
              "      <td>60</td>\n",
              "      <td>80.0</td>\n",
              "      <td>0.4</td>\n",
              "      <td>0.6</td>\n",
              "      <td>1</td>\n",
              "      <td>1</td>\n",
              "      <td>107</td>\n",
              "      <td>60</td>\n",
              "      <td>...</td>\n",
              "      <td>61</td>\n",
              "      <td>72</td>\n",
              "      <td>12.3</td>\n",
              "      <td>1</td>\n",
              "      <td>0.5</td>\n",
              "      <td>18</td>\n",
              "      <td>18</td>\n",
              "      <td>21</td>\n",
              "      <td>1</td>\n",
              "      <td>0</td>\n",
              "    </tr>\n",
              "    <tr>\n",
              "      <th>38980</th>\n",
              "      <td>45</td>\n",
              "      <td>155</td>\n",
              "      <td>55</td>\n",
              "      <td>75.0</td>\n",
              "      <td>1.5</td>\n",
              "      <td>1.2</td>\n",
              "      <td>1</td>\n",
              "      <td>1</td>\n",
              "      <td>126</td>\n",
              "      <td>72</td>\n",
              "      <td>...</td>\n",
              "      <td>76</td>\n",
              "      <td>131</td>\n",
              "      <td>12.5</td>\n",
              "      <td>2</td>\n",
              "      <td>0.6</td>\n",
              "      <td>23</td>\n",
              "      <td>11</td>\n",
              "      <td>12</td>\n",
              "      <td>0</td>\n",
              "      <td>0</td>\n",
              "    </tr>\n",
              "    <tr>\n",
              "      <th>38981</th>\n",
              "      <td>40</td>\n",
              "      <td>170</td>\n",
              "      <td>105</td>\n",
              "      <td>124.0</td>\n",
              "      <td>0.6</td>\n",
              "      <td>0.5</td>\n",
              "      <td>1</td>\n",
              "      <td>1</td>\n",
              "      <td>141</td>\n",
              "      <td>85</td>\n",
              "      <td>...</td>\n",
              "      <td>48</td>\n",
              "      <td>138</td>\n",
              "      <td>17.1</td>\n",
              "      <td>1</td>\n",
              "      <td>0.8</td>\n",
              "      <td>24</td>\n",
              "      <td>23</td>\n",
              "      <td>35</td>\n",
              "      <td>1</td>\n",
              "      <td>1</td>\n",
              "    </tr>\n",
              "    <tr>\n",
              "      <th>38982</th>\n",
              "      <td>40</td>\n",
              "      <td>160</td>\n",
              "      <td>55</td>\n",
              "      <td>75.0</td>\n",
              "      <td>1.5</td>\n",
              "      <td>1.5</td>\n",
              "      <td>1</td>\n",
              "      <td>1</td>\n",
              "      <td>95</td>\n",
              "      <td>69</td>\n",
              "      <td>...</td>\n",
              "      <td>79</td>\n",
              "      <td>116</td>\n",
              "      <td>12.0</td>\n",
              "      <td>1</td>\n",
              "      <td>0.6</td>\n",
              "      <td>24</td>\n",
              "      <td>20</td>\n",
              "      <td>17</td>\n",
              "      <td>0</td>\n",
              "      <td>1</td>\n",
              "    </tr>\n",
              "    <tr>\n",
              "      <th>38983</th>\n",
              "      <td>55</td>\n",
              "      <td>175</td>\n",
              "      <td>60</td>\n",
              "      <td>81.1</td>\n",
              "      <td>1.0</td>\n",
              "      <td>1.0</td>\n",
              "      <td>1</td>\n",
              "      <td>1</td>\n",
              "      <td>114</td>\n",
              "      <td>66</td>\n",
              "      <td>...</td>\n",
              "      <td>64</td>\n",
              "      <td>137</td>\n",
              "      <td>13.9</td>\n",
              "      <td>1</td>\n",
              "      <td>1.0</td>\n",
              "      <td>18</td>\n",
              "      <td>12</td>\n",
              "      <td>16</td>\n",
              "      <td>0</td>\n",
              "      <td>1</td>\n",
              "    </tr>\n",
              "  </tbody>\n",
              "</table>\n",
              "<p>5 rows × 23 columns</p>\n",
              "</div>\n",
              "      <button class=\"colab-df-convert\" onclick=\"convertToInteractive('df-cd60b40b-022f-4959-9fa6-0c07815c90c5')\"\n",
              "              title=\"Convert this dataframe to an interactive table.\"\n",
              "              style=\"display:none;\">\n",
              "        \n",
              "  <svg xmlns=\"http://www.w3.org/2000/svg\" height=\"24px\"viewBox=\"0 0 24 24\"\n",
              "       width=\"24px\">\n",
              "    <path d=\"M0 0h24v24H0V0z\" fill=\"none\"/>\n",
              "    <path d=\"M18.56 5.44l.94 2.06.94-2.06 2.06-.94-2.06-.94-.94-2.06-.94 2.06-2.06.94zm-11 1L8.5 8.5l.94-2.06 2.06-.94-2.06-.94L8.5 2.5l-.94 2.06-2.06.94zm10 10l.94 2.06.94-2.06 2.06-.94-2.06-.94-.94-2.06-.94 2.06-2.06.94z\"/><path d=\"M17.41 7.96l-1.37-1.37c-.4-.4-.92-.59-1.43-.59-.52 0-1.04.2-1.43.59L10.3 9.45l-7.72 7.72c-.78.78-.78 2.05 0 2.83L4 21.41c.39.39.9.59 1.41.59.51 0 1.02-.2 1.41-.59l7.78-7.78 2.81-2.81c.8-.78.8-2.07 0-2.86zM5.41 20L4 18.59l7.72-7.72 1.47 1.35L5.41 20z\"/>\n",
              "  </svg>\n",
              "      </button>\n",
              "      \n",
              "  <style>\n",
              "    .colab-df-container {\n",
              "      display:flex;\n",
              "      flex-wrap:wrap;\n",
              "      gap: 12px;\n",
              "    }\n",
              "\n",
              "    .colab-df-convert {\n",
              "      background-color: #E8F0FE;\n",
              "      border: none;\n",
              "      border-radius: 50%;\n",
              "      cursor: pointer;\n",
              "      display: none;\n",
              "      fill: #1967D2;\n",
              "      height: 32px;\n",
              "      padding: 0 0 0 0;\n",
              "      width: 32px;\n",
              "    }\n",
              "\n",
              "    .colab-df-convert:hover {\n",
              "      background-color: #E2EBFA;\n",
              "      box-shadow: 0px 1px 2px rgba(60, 64, 67, 0.3), 0px 1px 3px 1px rgba(60, 64, 67, 0.15);\n",
              "      fill: #174EA6;\n",
              "    }\n",
              "\n",
              "    [theme=dark] .colab-df-convert {\n",
              "      background-color: #3B4455;\n",
              "      fill: #D2E3FC;\n",
              "    }\n",
              "\n",
              "    [theme=dark] .colab-df-convert:hover {\n",
              "      background-color: #434B5C;\n",
              "      box-shadow: 0px 1px 3px 1px rgba(0, 0, 0, 0.15);\n",
              "      filter: drop-shadow(0px 1px 2px rgba(0, 0, 0, 0.3));\n",
              "      fill: #FFFFFF;\n",
              "    }\n",
              "  </style>\n",
              "\n",
              "      <script>\n",
              "        const buttonEl =\n",
              "          document.querySelector('#df-cd60b40b-022f-4959-9fa6-0c07815c90c5 button.colab-df-convert');\n",
              "        buttonEl.style.display =\n",
              "          google.colab.kernel.accessAllowed ? 'block' : 'none';\n",
              "\n",
              "        async function convertToInteractive(key) {\n",
              "          const element = document.querySelector('#df-cd60b40b-022f-4959-9fa6-0c07815c90c5');\n",
              "          const dataTable =\n",
              "            await google.colab.kernel.invokeFunction('convertToInteractive',\n",
              "                                                     [key], {});\n",
              "          if (!dataTable) return;\n",
              "\n",
              "          const docLinkHtml = 'Like what you see? Visit the ' +\n",
              "            '<a target=\"_blank\" href=https://colab.research.google.com/notebooks/data_table.ipynb>data table notebook</a>'\n",
              "            + ' to learn more about interactive tables.';\n",
              "          element.innerHTML = '';\n",
              "          dataTable['output_type'] = 'display_data';\n",
              "          await google.colab.output.renderOutput(dataTable, element);\n",
              "          const docLink = document.createElement('div');\n",
              "          docLink.innerHTML = docLinkHtml;\n",
              "          element.appendChild(docLink);\n",
              "        }\n",
              "      </script>\n",
              "    </div>\n",
              "  </div>\n",
              "  "
            ]
          },
          "metadata": {},
          "execution_count": 5
        }
      ]
    },
    {
      "cell_type": "code",
      "source": [
        "smoke_data.shape"
      ],
      "metadata": {
        "colab": {
          "base_uri": "https://localhost:8080/"
        },
        "id": "aUCMCmJZJFRf",
        "outputId": "2b353e63-e7a0-402c-d194-6316ac2281e0"
      },
      "execution_count": null,
      "outputs": [
        {
          "output_type": "execute_result",
          "data": {
            "text/plain": [
              "(38984, 23)"
            ]
          },
          "metadata": {},
          "execution_count": 6
        }
      ]
    },
    {
      "cell_type": "code",
      "source": [
        "smoke_data.info()"
      ],
      "metadata": {
        "colab": {
          "base_uri": "https://localhost:8080/"
        },
        "id": "YHS03LNfJLk6",
        "outputId": "9340dfb4-de91-4e08-fa17-396d68801dac"
      },
      "execution_count": null,
      "outputs": [
        {
          "output_type": "stream",
          "name": "stdout",
          "text": [
            "<class 'pandas.core.frame.DataFrame'>\n",
            "RangeIndex: 38984 entries, 0 to 38983\n",
            "Data columns (total 23 columns):\n",
            " #   Column               Non-Null Count  Dtype  \n",
            "---  ------               --------------  -----  \n",
            " 0   age                  38984 non-null  int64  \n",
            " 1   height(cm)           38984 non-null  int64  \n",
            " 2   weight(kg)           38984 non-null  int64  \n",
            " 3   waist(cm)            38984 non-null  float64\n",
            " 4   eyesight(left)       38984 non-null  float64\n",
            " 5   eyesight(right)      38984 non-null  float64\n",
            " 6   hearing(left)        38984 non-null  int64  \n",
            " 7   hearing(right)       38984 non-null  int64  \n",
            " 8   systolic             38984 non-null  int64  \n",
            " 9   relaxation           38984 non-null  int64  \n",
            " 10  fasting blood sugar  38984 non-null  int64  \n",
            " 11  Cholesterol          38984 non-null  int64  \n",
            " 12  triglyceride         38984 non-null  int64  \n",
            " 13  HDL                  38984 non-null  int64  \n",
            " 14  LDL                  38984 non-null  int64  \n",
            " 15  hemoglobin           38984 non-null  float64\n",
            " 16  Urine protein        38984 non-null  int64  \n",
            " 17  serum creatinine     38984 non-null  float64\n",
            " 18  AST                  38984 non-null  int64  \n",
            " 19  ALT                  38984 non-null  int64  \n",
            " 20  Gtp                  38984 non-null  int64  \n",
            " 21  dental caries        38984 non-null  int64  \n",
            " 22  smoking              38984 non-null  int64  \n",
            "dtypes: float64(5), int64(18)\n",
            "memory usage: 6.8 MB\n"
          ]
        }
      ]
    },
    {
      "cell_type": "code",
      "source": [
        "smoke_data.isnull().sum()"
      ],
      "metadata": {
        "colab": {
          "base_uri": "https://localhost:8080/"
        },
        "id": "b2JpscrfJTr7",
        "outputId": "f7463145-dc1d-4e0b-88b1-22ca97602383"
      },
      "execution_count": null,
      "outputs": [
        {
          "output_type": "execute_result",
          "data": {
            "text/plain": [
              "age                    0\n",
              "height(cm)             0\n",
              "weight(kg)             0\n",
              "waist(cm)              0\n",
              "eyesight(left)         0\n",
              "eyesight(right)        0\n",
              "hearing(left)          0\n",
              "hearing(right)         0\n",
              "systolic               0\n",
              "relaxation             0\n",
              "fasting blood sugar    0\n",
              "Cholesterol            0\n",
              "triglyceride           0\n",
              "HDL                    0\n",
              "LDL                    0\n",
              "hemoglobin             0\n",
              "Urine protein          0\n",
              "serum creatinine       0\n",
              "AST                    0\n",
              "ALT                    0\n",
              "Gtp                    0\n",
              "dental caries          0\n",
              "smoking                0\n",
              "dtype: int64"
            ]
          },
          "metadata": {},
          "execution_count": 8
        }
      ]
    },
    {
      "cell_type": "code",
      "source": [
        "smoke_data.describe()"
      ],
      "metadata": {
        "colab": {
          "base_uri": "https://localhost:8080/",
          "height": 411
        },
        "id": "HBIPHVRNJaqi",
        "outputId": "b540bb23-1e3c-4f0b-8511-8250c409fc38"
      },
      "execution_count": null,
      "outputs": [
        {
          "output_type": "execute_result",
          "data": {
            "text/plain": [
              "                age    height(cm)    weight(kg)     waist(cm)  eyesight(left)  \\\n",
              "count  38984.000000  38984.000000  38984.000000  38984.000000    38984.000000   \n",
              "mean      44.127591    164.689488     65.938718     82.062115        1.014955   \n",
              "std       12.063564      9.187507     12.896581      9.326798        0.498527   \n",
              "min       20.000000    130.000000     30.000000     51.000000        0.100000   \n",
              "25%       40.000000    160.000000     55.000000     76.000000        0.800000   \n",
              "50%       40.000000    165.000000     65.000000     82.000000        1.000000   \n",
              "75%       55.000000    170.000000     75.000000     88.000000        1.200000   \n",
              "max       85.000000    190.000000    135.000000    129.000000        9.900000   \n",
              "\n",
              "       eyesight(right)  hearing(left)  hearing(right)      systolic  \\\n",
              "count     38984.000000   38984.000000    38984.000000  38984.000000   \n",
              "mean          1.008768       1.025369        1.026190    121.475631   \n",
              "std           0.493813       0.157246        0.159703     13.643521   \n",
              "min           0.100000       1.000000        1.000000     71.000000   \n",
              "25%           0.800000       1.000000        1.000000    112.000000   \n",
              "50%           1.000000       1.000000        1.000000    120.000000   \n",
              "75%           1.200000       1.000000        1.000000    130.000000   \n",
              "max           9.900000       2.000000        2.000000    233.000000   \n",
              "\n",
              "         relaxation  ...           HDL           LDL    hemoglobin  \\\n",
              "count  38984.000000  ...  38984.000000  38984.000000  38984.000000   \n",
              "mean      75.994408  ...     57.293146    115.081495     14.624264   \n",
              "std        9.658734  ...     14.617822     42.883163      1.566528   \n",
              "min       40.000000  ...      4.000000      1.000000      4.900000   \n",
              "25%       70.000000  ...     47.000000     91.000000     13.600000   \n",
              "50%       76.000000  ...     55.000000    113.000000     14.800000   \n",
              "75%       82.000000  ...     66.000000    136.000000     15.800000   \n",
              "max      146.000000  ...    359.000000   1860.000000     21.100000   \n",
              "\n",
              "       Urine protein  serum creatinine           AST           ALT  \\\n",
              "count   38984.000000      38984.000000  38984.000000  38984.000000   \n",
              "mean        1.086523          0.886030     26.198235     27.145188   \n",
              "std         0.402107          0.220621     19.175595     31.309945   \n",
              "min         1.000000          0.100000      6.000000      1.000000   \n",
              "25%         1.000000          0.800000     19.000000     15.000000   \n",
              "50%         1.000000          0.900000     23.000000     21.000000   \n",
              "75%         1.000000          1.000000     29.000000     31.000000   \n",
              "max         6.000000         11.600000   1090.000000   2914.000000   \n",
              "\n",
              "                Gtp  dental caries       smoking  \n",
              "count  38984.000000   38984.000000  38984.000000  \n",
              "mean      39.905038       0.214421      0.367279  \n",
              "std       49.693843       0.410426      0.482070  \n",
              "min        2.000000       0.000000      0.000000  \n",
              "25%       17.000000       0.000000      0.000000  \n",
              "50%       26.000000       0.000000      0.000000  \n",
              "75%       44.000000       0.000000      1.000000  \n",
              "max      999.000000       1.000000      1.000000  \n",
              "\n",
              "[8 rows x 23 columns]"
            ],
            "text/html": [
              "\n",
              "  <div id=\"df-da715986-4f50-4c9d-8def-8fff816ef6a4\">\n",
              "    <div class=\"colab-df-container\">\n",
              "      <div>\n",
              "<style scoped>\n",
              "    .dataframe tbody tr th:only-of-type {\n",
              "        vertical-align: middle;\n",
              "    }\n",
              "\n",
              "    .dataframe tbody tr th {\n",
              "        vertical-align: top;\n",
              "    }\n",
              "\n",
              "    .dataframe thead th {\n",
              "        text-align: right;\n",
              "    }\n",
              "</style>\n",
              "<table border=\"1\" class=\"dataframe\">\n",
              "  <thead>\n",
              "    <tr style=\"text-align: right;\">\n",
              "      <th></th>\n",
              "      <th>age</th>\n",
              "      <th>height(cm)</th>\n",
              "      <th>weight(kg)</th>\n",
              "      <th>waist(cm)</th>\n",
              "      <th>eyesight(left)</th>\n",
              "      <th>eyesight(right)</th>\n",
              "      <th>hearing(left)</th>\n",
              "      <th>hearing(right)</th>\n",
              "      <th>systolic</th>\n",
              "      <th>relaxation</th>\n",
              "      <th>...</th>\n",
              "      <th>HDL</th>\n",
              "      <th>LDL</th>\n",
              "      <th>hemoglobin</th>\n",
              "      <th>Urine protein</th>\n",
              "      <th>serum creatinine</th>\n",
              "      <th>AST</th>\n",
              "      <th>ALT</th>\n",
              "      <th>Gtp</th>\n",
              "      <th>dental caries</th>\n",
              "      <th>smoking</th>\n",
              "    </tr>\n",
              "  </thead>\n",
              "  <tbody>\n",
              "    <tr>\n",
              "      <th>count</th>\n",
              "      <td>38984.000000</td>\n",
              "      <td>38984.000000</td>\n",
              "      <td>38984.000000</td>\n",
              "      <td>38984.000000</td>\n",
              "      <td>38984.000000</td>\n",
              "      <td>38984.000000</td>\n",
              "      <td>38984.000000</td>\n",
              "      <td>38984.000000</td>\n",
              "      <td>38984.000000</td>\n",
              "      <td>38984.000000</td>\n",
              "      <td>...</td>\n",
              "      <td>38984.000000</td>\n",
              "      <td>38984.000000</td>\n",
              "      <td>38984.000000</td>\n",
              "      <td>38984.000000</td>\n",
              "      <td>38984.000000</td>\n",
              "      <td>38984.000000</td>\n",
              "      <td>38984.000000</td>\n",
              "      <td>38984.000000</td>\n",
              "      <td>38984.000000</td>\n",
              "      <td>38984.000000</td>\n",
              "    </tr>\n",
              "    <tr>\n",
              "      <th>mean</th>\n",
              "      <td>44.127591</td>\n",
              "      <td>164.689488</td>\n",
              "      <td>65.938718</td>\n",
              "      <td>82.062115</td>\n",
              "      <td>1.014955</td>\n",
              "      <td>1.008768</td>\n",
              "      <td>1.025369</td>\n",
              "      <td>1.026190</td>\n",
              "      <td>121.475631</td>\n",
              "      <td>75.994408</td>\n",
              "      <td>...</td>\n",
              "      <td>57.293146</td>\n",
              "      <td>115.081495</td>\n",
              "      <td>14.624264</td>\n",
              "      <td>1.086523</td>\n",
              "      <td>0.886030</td>\n",
              "      <td>26.198235</td>\n",
              "      <td>27.145188</td>\n",
              "      <td>39.905038</td>\n",
              "      <td>0.214421</td>\n",
              "      <td>0.367279</td>\n",
              "    </tr>\n",
              "    <tr>\n",
              "      <th>std</th>\n",
              "      <td>12.063564</td>\n",
              "      <td>9.187507</td>\n",
              "      <td>12.896581</td>\n",
              "      <td>9.326798</td>\n",
              "      <td>0.498527</td>\n",
              "      <td>0.493813</td>\n",
              "      <td>0.157246</td>\n",
              "      <td>0.159703</td>\n",
              "      <td>13.643521</td>\n",
              "      <td>9.658734</td>\n",
              "      <td>...</td>\n",
              "      <td>14.617822</td>\n",
              "      <td>42.883163</td>\n",
              "      <td>1.566528</td>\n",
              "      <td>0.402107</td>\n",
              "      <td>0.220621</td>\n",
              "      <td>19.175595</td>\n",
              "      <td>31.309945</td>\n",
              "      <td>49.693843</td>\n",
              "      <td>0.410426</td>\n",
              "      <td>0.482070</td>\n",
              "    </tr>\n",
              "    <tr>\n",
              "      <th>min</th>\n",
              "      <td>20.000000</td>\n",
              "      <td>130.000000</td>\n",
              "      <td>30.000000</td>\n",
              "      <td>51.000000</td>\n",
              "      <td>0.100000</td>\n",
              "      <td>0.100000</td>\n",
              "      <td>1.000000</td>\n",
              "      <td>1.000000</td>\n",
              "      <td>71.000000</td>\n",
              "      <td>40.000000</td>\n",
              "      <td>...</td>\n",
              "      <td>4.000000</td>\n",
              "      <td>1.000000</td>\n",
              "      <td>4.900000</td>\n",
              "      <td>1.000000</td>\n",
              "      <td>0.100000</td>\n",
              "      <td>6.000000</td>\n",
              "      <td>1.000000</td>\n",
              "      <td>2.000000</td>\n",
              "      <td>0.000000</td>\n",
              "      <td>0.000000</td>\n",
              "    </tr>\n",
              "    <tr>\n",
              "      <th>25%</th>\n",
              "      <td>40.000000</td>\n",
              "      <td>160.000000</td>\n",
              "      <td>55.000000</td>\n",
              "      <td>76.000000</td>\n",
              "      <td>0.800000</td>\n",
              "      <td>0.800000</td>\n",
              "      <td>1.000000</td>\n",
              "      <td>1.000000</td>\n",
              "      <td>112.000000</td>\n",
              "      <td>70.000000</td>\n",
              "      <td>...</td>\n",
              "      <td>47.000000</td>\n",
              "      <td>91.000000</td>\n",
              "      <td>13.600000</td>\n",
              "      <td>1.000000</td>\n",
              "      <td>0.800000</td>\n",
              "      <td>19.000000</td>\n",
              "      <td>15.000000</td>\n",
              "      <td>17.000000</td>\n",
              "      <td>0.000000</td>\n",
              "      <td>0.000000</td>\n",
              "    </tr>\n",
              "    <tr>\n",
              "      <th>50%</th>\n",
              "      <td>40.000000</td>\n",
              "      <td>165.000000</td>\n",
              "      <td>65.000000</td>\n",
              "      <td>82.000000</td>\n",
              "      <td>1.000000</td>\n",
              "      <td>1.000000</td>\n",
              "      <td>1.000000</td>\n",
              "      <td>1.000000</td>\n",
              "      <td>120.000000</td>\n",
              "      <td>76.000000</td>\n",
              "      <td>...</td>\n",
              "      <td>55.000000</td>\n",
              "      <td>113.000000</td>\n",
              "      <td>14.800000</td>\n",
              "      <td>1.000000</td>\n",
              "      <td>0.900000</td>\n",
              "      <td>23.000000</td>\n",
              "      <td>21.000000</td>\n",
              "      <td>26.000000</td>\n",
              "      <td>0.000000</td>\n",
              "      <td>0.000000</td>\n",
              "    </tr>\n",
              "    <tr>\n",
              "      <th>75%</th>\n",
              "      <td>55.000000</td>\n",
              "      <td>170.000000</td>\n",
              "      <td>75.000000</td>\n",
              "      <td>88.000000</td>\n",
              "      <td>1.200000</td>\n",
              "      <td>1.200000</td>\n",
              "      <td>1.000000</td>\n",
              "      <td>1.000000</td>\n",
              "      <td>130.000000</td>\n",
              "      <td>82.000000</td>\n",
              "      <td>...</td>\n",
              "      <td>66.000000</td>\n",
              "      <td>136.000000</td>\n",
              "      <td>15.800000</td>\n",
              "      <td>1.000000</td>\n",
              "      <td>1.000000</td>\n",
              "      <td>29.000000</td>\n",
              "      <td>31.000000</td>\n",
              "      <td>44.000000</td>\n",
              "      <td>0.000000</td>\n",
              "      <td>1.000000</td>\n",
              "    </tr>\n",
              "    <tr>\n",
              "      <th>max</th>\n",
              "      <td>85.000000</td>\n",
              "      <td>190.000000</td>\n",
              "      <td>135.000000</td>\n",
              "      <td>129.000000</td>\n",
              "      <td>9.900000</td>\n",
              "      <td>9.900000</td>\n",
              "      <td>2.000000</td>\n",
              "      <td>2.000000</td>\n",
              "      <td>233.000000</td>\n",
              "      <td>146.000000</td>\n",
              "      <td>...</td>\n",
              "      <td>359.000000</td>\n",
              "      <td>1860.000000</td>\n",
              "      <td>21.100000</td>\n",
              "      <td>6.000000</td>\n",
              "      <td>11.600000</td>\n",
              "      <td>1090.000000</td>\n",
              "      <td>2914.000000</td>\n",
              "      <td>999.000000</td>\n",
              "      <td>1.000000</td>\n",
              "      <td>1.000000</td>\n",
              "    </tr>\n",
              "  </tbody>\n",
              "</table>\n",
              "<p>8 rows × 23 columns</p>\n",
              "</div>\n",
              "      <button class=\"colab-df-convert\" onclick=\"convertToInteractive('df-da715986-4f50-4c9d-8def-8fff816ef6a4')\"\n",
              "              title=\"Convert this dataframe to an interactive table.\"\n",
              "              style=\"display:none;\">\n",
              "        \n",
              "  <svg xmlns=\"http://www.w3.org/2000/svg\" height=\"24px\"viewBox=\"0 0 24 24\"\n",
              "       width=\"24px\">\n",
              "    <path d=\"M0 0h24v24H0V0z\" fill=\"none\"/>\n",
              "    <path d=\"M18.56 5.44l.94 2.06.94-2.06 2.06-.94-2.06-.94-.94-2.06-.94 2.06-2.06.94zm-11 1L8.5 8.5l.94-2.06 2.06-.94-2.06-.94L8.5 2.5l-.94 2.06-2.06.94zm10 10l.94 2.06.94-2.06 2.06-.94-2.06-.94-.94-2.06-.94 2.06-2.06.94z\"/><path d=\"M17.41 7.96l-1.37-1.37c-.4-.4-.92-.59-1.43-.59-.52 0-1.04.2-1.43.59L10.3 9.45l-7.72 7.72c-.78.78-.78 2.05 0 2.83L4 21.41c.39.39.9.59 1.41.59.51 0 1.02-.2 1.41-.59l7.78-7.78 2.81-2.81c.8-.78.8-2.07 0-2.86zM5.41 20L4 18.59l7.72-7.72 1.47 1.35L5.41 20z\"/>\n",
              "  </svg>\n",
              "      </button>\n",
              "      \n",
              "  <style>\n",
              "    .colab-df-container {\n",
              "      display:flex;\n",
              "      flex-wrap:wrap;\n",
              "      gap: 12px;\n",
              "    }\n",
              "\n",
              "    .colab-df-convert {\n",
              "      background-color: #E8F0FE;\n",
              "      border: none;\n",
              "      border-radius: 50%;\n",
              "      cursor: pointer;\n",
              "      display: none;\n",
              "      fill: #1967D2;\n",
              "      height: 32px;\n",
              "      padding: 0 0 0 0;\n",
              "      width: 32px;\n",
              "    }\n",
              "\n",
              "    .colab-df-convert:hover {\n",
              "      background-color: #E2EBFA;\n",
              "      box-shadow: 0px 1px 2px rgba(60, 64, 67, 0.3), 0px 1px 3px 1px rgba(60, 64, 67, 0.15);\n",
              "      fill: #174EA6;\n",
              "    }\n",
              "\n",
              "    [theme=dark] .colab-df-convert {\n",
              "      background-color: #3B4455;\n",
              "      fill: #D2E3FC;\n",
              "    }\n",
              "\n",
              "    [theme=dark] .colab-df-convert:hover {\n",
              "      background-color: #434B5C;\n",
              "      box-shadow: 0px 1px 3px 1px rgba(0, 0, 0, 0.15);\n",
              "      filter: drop-shadow(0px 1px 2px rgba(0, 0, 0, 0.3));\n",
              "      fill: #FFFFFF;\n",
              "    }\n",
              "  </style>\n",
              "\n",
              "      <script>\n",
              "        const buttonEl =\n",
              "          document.querySelector('#df-da715986-4f50-4c9d-8def-8fff816ef6a4 button.colab-df-convert');\n",
              "        buttonEl.style.display =\n",
              "          google.colab.kernel.accessAllowed ? 'block' : 'none';\n",
              "\n",
              "        async function convertToInteractive(key) {\n",
              "          const element = document.querySelector('#df-da715986-4f50-4c9d-8def-8fff816ef6a4');\n",
              "          const dataTable =\n",
              "            await google.colab.kernel.invokeFunction('convertToInteractive',\n",
              "                                                     [key], {});\n",
              "          if (!dataTable) return;\n",
              "\n",
              "          const docLinkHtml = 'Like what you see? Visit the ' +\n",
              "            '<a target=\"_blank\" href=https://colab.research.google.com/notebooks/data_table.ipynb>data table notebook</a>'\n",
              "            + ' to learn more about interactive tables.';\n",
              "          element.innerHTML = '';\n",
              "          dataTable['output_type'] = 'display_data';\n",
              "          await google.colab.output.renderOutput(dataTable, element);\n",
              "          const docLink = document.createElement('div');\n",
              "          docLink.innerHTML = docLinkHtml;\n",
              "          element.appendChild(docLink);\n",
              "        }\n",
              "      </script>\n",
              "    </div>\n",
              "  </div>\n",
              "  "
            ]
          },
          "metadata": {},
          "execution_count": 9
        }
      ]
    },
    {
      "cell_type": "code",
      "source": [
        "smoke_data['smoking'].value_counts()"
      ],
      "metadata": {
        "colab": {
          "base_uri": "https://localhost:8080/"
        },
        "id": "CrUxWc0BJnlH",
        "outputId": "ce9c2af6-5538-48da-dc1e-796d0cbb3632"
      },
      "execution_count": null,
      "outputs": [
        {
          "output_type": "execute_result",
          "data": {
            "text/plain": [
              "0    24666\n",
              "1    14318\n",
              "Name: smoking, dtype: int64"
            ]
          },
          "metadata": {},
          "execution_count": 10
        }
      ]
    },
    {
      "cell_type": "code",
      "source": [
        "X= smoke_data.drop(columns='smoking',axis=1)\n",
        "Y= smoke_data['smoking']"
      ],
      "metadata": {
        "id": "aFJWi1hWJ1Tl"
      },
      "execution_count": null,
      "outputs": []
    },
    {
      "cell_type": "code",
      "source": [
        "print(X)"
      ],
      "metadata": {
        "colab": {
          "base_uri": "https://localhost:8080/"
        },
        "id": "-9nbxV6EKKcn",
        "outputId": "85bf7194-d377-4d80-a8dd-f6841caa1688"
      },
      "execution_count": null,
      "outputs": [
        {
          "output_type": "stream",
          "name": "stdout",
          "text": [
            "       age  height(cm)  weight(kg)  waist(cm)  eyesight(left)  \\\n",
            "0       35         170          85       97.0             0.9   \n",
            "1       20         175         110      110.0             0.7   \n",
            "2       45         155          65       86.0             0.9   \n",
            "3       45         165          80       94.0             0.8   \n",
            "4       20         165          60       81.0             1.5   \n",
            "...    ...         ...         ...        ...             ...   \n",
            "38979   40         165          60       80.0             0.4   \n",
            "38980   45         155          55       75.0             1.5   \n",
            "38981   40         170         105      124.0             0.6   \n",
            "38982   40         160          55       75.0             1.5   \n",
            "38983   55         175          60       81.1             1.0   \n",
            "\n",
            "       eyesight(right)  hearing(left)  hearing(right)  systolic  relaxation  \\\n",
            "0                  0.9              1               1       118          78   \n",
            "1                  0.9              1               1       119          79   \n",
            "2                  0.9              1               1       110          80   \n",
            "3                  0.7              1               1       158          88   \n",
            "4                  0.1              1               1       109          64   \n",
            "...                ...            ...             ...       ...         ...   \n",
            "38979              0.6              1               1       107          60   \n",
            "38980              1.2              1               1       126          72   \n",
            "38981              0.5              1               1       141          85   \n",
            "38982              1.5              1               1        95          69   \n",
            "38983              1.0              1               1       114          66   \n",
            "\n",
            "       ...  triglyceride  HDL  LDL  hemoglobin  Urine protein  \\\n",
            "0      ...           153   70  142        19.8              1   \n",
            "1      ...           128   71  114        15.9              1   \n",
            "2      ...           120   57  112        13.7              3   \n",
            "3      ...           366   46   91        16.9              1   \n",
            "4      ...           200   47   92        14.9              1   \n",
            "...    ...           ...  ...  ...         ...            ...   \n",
            "38979  ...            53   61   72        12.3              1   \n",
            "38980  ...           100   76  131        12.5              2   \n",
            "38981  ...           196   48  138        17.1              1   \n",
            "38982  ...            48   79  116        12.0              1   \n",
            "38983  ...            57   64  137        13.9              1   \n",
            "\n",
            "       serum creatinine   AST   ALT  Gtp  dental caries  \n",
            "0                   1.0    61   115  125              1  \n",
            "1                   1.1    19    25   30              1  \n",
            "2                   0.6  1090  1400  276              0  \n",
            "3                   0.9    32    36   36              0  \n",
            "4                   1.2    26    28   15              0  \n",
            "...                 ...   ...   ...  ...            ...  \n",
            "38979               0.5    18    18   21              1  \n",
            "38980               0.6    23    11   12              0  \n",
            "38981               0.8    24    23   35              1  \n",
            "38982               0.6    24    20   17              0  \n",
            "38983               1.0    18    12   16              0  \n",
            "\n",
            "[38984 rows x 22 columns]\n"
          ]
        }
      ]
    },
    {
      "cell_type": "code",
      "source": [
        "print(Y)"
      ],
      "metadata": {
        "colab": {
          "base_uri": "https://localhost:8080/"
        },
        "id": "VVGf96msKLl8",
        "outputId": "68267a20-de33-499c-f9de-4a07c86d6c71"
      },
      "execution_count": null,
      "outputs": [
        {
          "output_type": "stream",
          "name": "stdout",
          "text": [
            "0        1\n",
            "1        0\n",
            "2        0\n",
            "3        0\n",
            "4        0\n",
            "        ..\n",
            "38979    0\n",
            "38980    0\n",
            "38981    1\n",
            "38982    1\n",
            "38983    1\n",
            "Name: smoking, Length: 38984, dtype: int64\n"
          ]
        }
      ]
    },
    {
      "cell_type": "markdown",
      "source": [
        "Training the Data"
      ],
      "metadata": {
        "id": "ECd_ZQmEqPmj"
      }
    },
    {
      "cell_type": "code",
      "source": [
        "X_train, X_test, Y_train,Y_test= train_test_split(X,Y,test_size=0.4,stratify=Y, random_state=4)"
      ],
      "metadata": {
        "id": "fHgDsRqKKOlw"
      },
      "execution_count": null,
      "outputs": []
    },
    {
      "cell_type": "code",
      "source": [
        "print(X.shape, X_train.shape, X_test.shape)"
      ],
      "metadata": {
        "colab": {
          "base_uri": "https://localhost:8080/"
        },
        "id": "oak9Ak1UKioz",
        "outputId": "0eb02358-fc03-4aaa-9e74-b81e4df5e2a4"
      },
      "execution_count": null,
      "outputs": [
        {
          "output_type": "stream",
          "name": "stdout",
          "text": [
            "(38984, 22) (23390, 22) (15594, 22)\n"
          ]
        }
      ]
    },
    {
      "cell_type": "markdown",
      "source": [
        "Logistic Regression"
      ],
      "metadata": {
        "id": "SxHeMRtYqR4K"
      }
    },
    {
      "cell_type": "code",
      "source": [
        "model = LogisticRegression()"
      ],
      "metadata": {
        "id": "JRm42k1QKltx"
      },
      "execution_count": null,
      "outputs": []
    },
    {
      "cell_type": "code",
      "source": [
        "model.fit(X_train, Y_train)"
      ],
      "metadata": {
        "colab": {
          "base_uri": "https://localhost:8080/"
        },
        "id": "9GEkwAHNKpGt",
        "outputId": "7a83d104-cb17-4015-b892-7acd8b8c7dcb"
      },
      "execution_count": null,
      "outputs": [
        {
          "output_type": "stream",
          "name": "stderr",
          "text": [
            "/usr/local/lib/python3.7/dist-packages/sklearn/linear_model/_logistic.py:818: ConvergenceWarning: lbfgs failed to converge (status=1):\n",
            "STOP: TOTAL NO. of ITERATIONS REACHED LIMIT.\n",
            "\n",
            "Increase the number of iterations (max_iter) or scale the data as shown in:\n",
            "    https://scikit-learn.org/stable/modules/preprocessing.html\n",
            "Please also refer to the documentation for alternative solver options:\n",
            "    https://scikit-learn.org/stable/modules/linear_model.html#logistic-regression\n",
            "  extra_warning_msg=_LOGISTIC_SOLVER_CONVERGENCE_MSG,\n"
          ]
        },
        {
          "output_type": "execute_result",
          "data": {
            "text/plain": [
              "LogisticRegression()"
            ]
          },
          "metadata": {},
          "execution_count": 17
        }
      ]
    },
    {
      "cell_type": "code",
      "source": [
        "X_train_prediction = model.predict(X_train)\n",
        "training_data_accuracy = accuracy_score(X_train_prediction, Y_train)"
      ],
      "metadata": {
        "id": "_sW0IFqRKqzU"
      },
      "execution_count": null,
      "outputs": []
    },
    {
      "cell_type": "code",
      "source": [
        "print('Accuracy on Training data : ', training_data_accuracy)"
      ],
      "metadata": {
        "colab": {
          "base_uri": "https://localhost:8080/"
        },
        "id": "PdOxXiN2Kt81",
        "outputId": "11ebabda-580e-4d32-e07b-b2e5fed44743"
      },
      "execution_count": null,
      "outputs": [
        {
          "output_type": "stream",
          "name": "stdout",
          "text": [
            "Accuracy on Training data :  0.7114151346729372\n"
          ]
        }
      ]
    },
    {
      "cell_type": "code",
      "source": [
        "X_test_prediction = model.predict(X_test)\n",
        "test_data_accuracy = accuracy_score(X_test_prediction, Y_test)"
      ],
      "metadata": {
        "id": "LMC59r12KvsR"
      },
      "execution_count": null,
      "outputs": []
    },
    {
      "cell_type": "code",
      "source": [
        "print('Accuracy on Test data : ', test_data_accuracy)"
      ],
      "metadata": {
        "id": "aNecXm0LK7xB",
        "outputId": "b9634a40-f5d0-42d8-a4d0-646c35c277af",
        "colab": {
          "base_uri": "https://localhost:8080/"
        }
      },
      "execution_count": null,
      "outputs": [
        {
          "output_type": "stream",
          "name": "stdout",
          "text": [
            "Accuracy on Test data :  0.7123252533025523\n"
          ]
        }
      ]
    },
    {
      "cell_type": "code",
      "source": [
        "input_data = (30,180,90,94.0,1.0,0.8,1,1,115,72,88,177,103,53,103,13.5,1,1.0,19,29,30,0)\n",
        "\n",
        "# change the input data to a numpy array\n",
        "input_data_as_numpy_array= np.asarray(input_data)\n",
        "\n",
        "# reshape the numpy array as we are predicting for only on instance\n",
        "input_data_reshaped = input_data_as_numpy_array.reshape(1,-1)\n",
        "\n",
        "prediction = model.predict(input_data_reshaped)\n",
        "print(prediction)\n",
        "\n",
        "if (prediction[0]== 0):\n",
        "  print('The Person does not Smoke')\n",
        "else:\n",
        "  print('The Person Smokes')"
      ],
      "metadata": {
        "id": "frB9KO8IK9WJ",
        "colab": {
          "base_uri": "https://localhost:8080/"
        },
        "outputId": "933e3121-a646-488d-8a34-f024abad4241"
      },
      "execution_count": null,
      "outputs": [
        {
          "output_type": "stream",
          "name": "stdout",
          "text": [
            "[0]\n",
            "The Person does not Smoke\n"
          ]
        },
        {
          "output_type": "stream",
          "name": "stderr",
          "text": [
            "/usr/local/lib/python3.7/dist-packages/sklearn/base.py:451: UserWarning: X does not have valid feature names, but LogisticRegression was fitted with feature names\n",
            "  \"X does not have valid feature names, but\"\n"
          ]
        }
      ]
    },
    {
      "cell_type": "markdown",
      "source": [
        "Implementing Test Data on the created model"
      ],
      "metadata": {
        "id": "6hr3ZjT6qWsp"
      }
    },
    {
      "cell_type": "code",
      "source": [
        "new_test_data = pd.read_csv(\"/content/drive/MyDrive/CSV files/test_dataset.csv\")\n",
        "new_test_data.head()"
      ],
      "metadata": {
        "colab": {
          "base_uri": "https://localhost:8080/",
          "height": 317
        },
        "id": "3RM5ymk6aeKB",
        "outputId": "558180bd-b2e6-41f7-cf0f-edb7e4fb7061"
      },
      "execution_count": null,
      "outputs": [
        {
          "output_type": "execute_result",
          "data": {
            "text/plain": [
              "   age  height(cm)  weight(kg)  waist(cm)  eyesight(left)  eyesight(right)  \\\n",
              "0   40         170          65       75.1             1.0              0.9   \n",
              "1   45         170          75       89.0             0.7              1.2   \n",
              "2   30         180          90       94.0             1.0              0.8   \n",
              "3   60         170          50       73.0             0.5              0.7   \n",
              "4   30         170          65       78.0             1.5              1.0   \n",
              "\n",
              "   hearing(left)  hearing(right)  systolic  relaxation  ...  triglyceride  \\\n",
              "0              1               1       120          70  ...           260   \n",
              "1              1               1       100          67  ...           345   \n",
              "2              1               1       115          72  ...           103   \n",
              "3              1               1       118          78  ...            70   \n",
              "4              1               1       110          70  ...           210   \n",
              "\n",
              "   HDL  LDL  hemoglobin  Urine protein  serum creatinine  AST  ALT  Gtp  \\\n",
              "0   41  132        15.7              1               0.8   24   26   32   \n",
              "1   49  140        15.7              1               1.1   26   28  138   \n",
              "2   53  103        13.5              1               1.0   19   29   30   \n",
              "3   65  108        14.1              1               1.3   31   28   33   \n",
              "4   45  103        14.7              1               0.8   21   21   19   \n",
              "\n",
              "   dental caries  \n",
              "0              0  \n",
              "1              0  \n",
              "2              0  \n",
              "3              0  \n",
              "4              0  \n",
              "\n",
              "[5 rows x 22 columns]"
            ],
            "text/html": [
              "\n",
              "  <div id=\"df-58eecc96-d754-4532-afc3-5d12df4cf6fb\">\n",
              "    <div class=\"colab-df-container\">\n",
              "      <div>\n",
              "<style scoped>\n",
              "    .dataframe tbody tr th:only-of-type {\n",
              "        vertical-align: middle;\n",
              "    }\n",
              "\n",
              "    .dataframe tbody tr th {\n",
              "        vertical-align: top;\n",
              "    }\n",
              "\n",
              "    .dataframe thead th {\n",
              "        text-align: right;\n",
              "    }\n",
              "</style>\n",
              "<table border=\"1\" class=\"dataframe\">\n",
              "  <thead>\n",
              "    <tr style=\"text-align: right;\">\n",
              "      <th></th>\n",
              "      <th>age</th>\n",
              "      <th>height(cm)</th>\n",
              "      <th>weight(kg)</th>\n",
              "      <th>waist(cm)</th>\n",
              "      <th>eyesight(left)</th>\n",
              "      <th>eyesight(right)</th>\n",
              "      <th>hearing(left)</th>\n",
              "      <th>hearing(right)</th>\n",
              "      <th>systolic</th>\n",
              "      <th>relaxation</th>\n",
              "      <th>...</th>\n",
              "      <th>triglyceride</th>\n",
              "      <th>HDL</th>\n",
              "      <th>LDL</th>\n",
              "      <th>hemoglobin</th>\n",
              "      <th>Urine protein</th>\n",
              "      <th>serum creatinine</th>\n",
              "      <th>AST</th>\n",
              "      <th>ALT</th>\n",
              "      <th>Gtp</th>\n",
              "      <th>dental caries</th>\n",
              "    </tr>\n",
              "  </thead>\n",
              "  <tbody>\n",
              "    <tr>\n",
              "      <th>0</th>\n",
              "      <td>40</td>\n",
              "      <td>170</td>\n",
              "      <td>65</td>\n",
              "      <td>75.1</td>\n",
              "      <td>1.0</td>\n",
              "      <td>0.9</td>\n",
              "      <td>1</td>\n",
              "      <td>1</td>\n",
              "      <td>120</td>\n",
              "      <td>70</td>\n",
              "      <td>...</td>\n",
              "      <td>260</td>\n",
              "      <td>41</td>\n",
              "      <td>132</td>\n",
              "      <td>15.7</td>\n",
              "      <td>1</td>\n",
              "      <td>0.8</td>\n",
              "      <td>24</td>\n",
              "      <td>26</td>\n",
              "      <td>32</td>\n",
              "      <td>0</td>\n",
              "    </tr>\n",
              "    <tr>\n",
              "      <th>1</th>\n",
              "      <td>45</td>\n",
              "      <td>170</td>\n",
              "      <td>75</td>\n",
              "      <td>89.0</td>\n",
              "      <td>0.7</td>\n",
              "      <td>1.2</td>\n",
              "      <td>1</td>\n",
              "      <td>1</td>\n",
              "      <td>100</td>\n",
              "      <td>67</td>\n",
              "      <td>...</td>\n",
              "      <td>345</td>\n",
              "      <td>49</td>\n",
              "      <td>140</td>\n",
              "      <td>15.7</td>\n",
              "      <td>1</td>\n",
              "      <td>1.1</td>\n",
              "      <td>26</td>\n",
              "      <td>28</td>\n",
              "      <td>138</td>\n",
              "      <td>0</td>\n",
              "    </tr>\n",
              "    <tr>\n",
              "      <th>2</th>\n",
              "      <td>30</td>\n",
              "      <td>180</td>\n",
              "      <td>90</td>\n",
              "      <td>94.0</td>\n",
              "      <td>1.0</td>\n",
              "      <td>0.8</td>\n",
              "      <td>1</td>\n",
              "      <td>1</td>\n",
              "      <td>115</td>\n",
              "      <td>72</td>\n",
              "      <td>...</td>\n",
              "      <td>103</td>\n",
              "      <td>53</td>\n",
              "      <td>103</td>\n",
              "      <td>13.5</td>\n",
              "      <td>1</td>\n",
              "      <td>1.0</td>\n",
              "      <td>19</td>\n",
              "      <td>29</td>\n",
              "      <td>30</td>\n",
              "      <td>0</td>\n",
              "    </tr>\n",
              "    <tr>\n",
              "      <th>3</th>\n",
              "      <td>60</td>\n",
              "      <td>170</td>\n",
              "      <td>50</td>\n",
              "      <td>73.0</td>\n",
              "      <td>0.5</td>\n",
              "      <td>0.7</td>\n",
              "      <td>1</td>\n",
              "      <td>1</td>\n",
              "      <td>118</td>\n",
              "      <td>78</td>\n",
              "      <td>...</td>\n",
              "      <td>70</td>\n",
              "      <td>65</td>\n",
              "      <td>108</td>\n",
              "      <td>14.1</td>\n",
              "      <td>1</td>\n",
              "      <td>1.3</td>\n",
              "      <td>31</td>\n",
              "      <td>28</td>\n",
              "      <td>33</td>\n",
              "      <td>0</td>\n",
              "    </tr>\n",
              "    <tr>\n",
              "      <th>4</th>\n",
              "      <td>30</td>\n",
              "      <td>170</td>\n",
              "      <td>65</td>\n",
              "      <td>78.0</td>\n",
              "      <td>1.5</td>\n",
              "      <td>1.0</td>\n",
              "      <td>1</td>\n",
              "      <td>1</td>\n",
              "      <td>110</td>\n",
              "      <td>70</td>\n",
              "      <td>...</td>\n",
              "      <td>210</td>\n",
              "      <td>45</td>\n",
              "      <td>103</td>\n",
              "      <td>14.7</td>\n",
              "      <td>1</td>\n",
              "      <td>0.8</td>\n",
              "      <td>21</td>\n",
              "      <td>21</td>\n",
              "      <td>19</td>\n",
              "      <td>0</td>\n",
              "    </tr>\n",
              "  </tbody>\n",
              "</table>\n",
              "<p>5 rows × 22 columns</p>\n",
              "</div>\n",
              "      <button class=\"colab-df-convert\" onclick=\"convertToInteractive('df-58eecc96-d754-4532-afc3-5d12df4cf6fb')\"\n",
              "              title=\"Convert this dataframe to an interactive table.\"\n",
              "              style=\"display:none;\">\n",
              "        \n",
              "  <svg xmlns=\"http://www.w3.org/2000/svg\" height=\"24px\"viewBox=\"0 0 24 24\"\n",
              "       width=\"24px\">\n",
              "    <path d=\"M0 0h24v24H0V0z\" fill=\"none\"/>\n",
              "    <path d=\"M18.56 5.44l.94 2.06.94-2.06 2.06-.94-2.06-.94-.94-2.06-.94 2.06-2.06.94zm-11 1L8.5 8.5l.94-2.06 2.06-.94-2.06-.94L8.5 2.5l-.94 2.06-2.06.94zm10 10l.94 2.06.94-2.06 2.06-.94-2.06-.94-.94-2.06-.94 2.06-2.06.94z\"/><path d=\"M17.41 7.96l-1.37-1.37c-.4-.4-.92-.59-1.43-.59-.52 0-1.04.2-1.43.59L10.3 9.45l-7.72 7.72c-.78.78-.78 2.05 0 2.83L4 21.41c.39.39.9.59 1.41.59.51 0 1.02-.2 1.41-.59l7.78-7.78 2.81-2.81c.8-.78.8-2.07 0-2.86zM5.41 20L4 18.59l7.72-7.72 1.47 1.35L5.41 20z\"/>\n",
              "  </svg>\n",
              "      </button>\n",
              "      \n",
              "  <style>\n",
              "    .colab-df-container {\n",
              "      display:flex;\n",
              "      flex-wrap:wrap;\n",
              "      gap: 12px;\n",
              "    }\n",
              "\n",
              "    .colab-df-convert {\n",
              "      background-color: #E8F0FE;\n",
              "      border: none;\n",
              "      border-radius: 50%;\n",
              "      cursor: pointer;\n",
              "      display: none;\n",
              "      fill: #1967D2;\n",
              "      height: 32px;\n",
              "      padding: 0 0 0 0;\n",
              "      width: 32px;\n",
              "    }\n",
              "\n",
              "    .colab-df-convert:hover {\n",
              "      background-color: #E2EBFA;\n",
              "      box-shadow: 0px 1px 2px rgba(60, 64, 67, 0.3), 0px 1px 3px 1px rgba(60, 64, 67, 0.15);\n",
              "      fill: #174EA6;\n",
              "    }\n",
              "\n",
              "    [theme=dark] .colab-df-convert {\n",
              "      background-color: #3B4455;\n",
              "      fill: #D2E3FC;\n",
              "    }\n",
              "\n",
              "    [theme=dark] .colab-df-convert:hover {\n",
              "      background-color: #434B5C;\n",
              "      box-shadow: 0px 1px 3px 1px rgba(0, 0, 0, 0.15);\n",
              "      filter: drop-shadow(0px 1px 2px rgba(0, 0, 0, 0.3));\n",
              "      fill: #FFFFFF;\n",
              "    }\n",
              "  </style>\n",
              "\n",
              "      <script>\n",
              "        const buttonEl =\n",
              "          document.querySelector('#df-58eecc96-d754-4532-afc3-5d12df4cf6fb button.colab-df-convert');\n",
              "        buttonEl.style.display =\n",
              "          google.colab.kernel.accessAllowed ? 'block' : 'none';\n",
              "\n",
              "        async function convertToInteractive(key) {\n",
              "          const element = document.querySelector('#df-58eecc96-d754-4532-afc3-5d12df4cf6fb');\n",
              "          const dataTable =\n",
              "            await google.colab.kernel.invokeFunction('convertToInteractive',\n",
              "                                                     [key], {});\n",
              "          if (!dataTable) return;\n",
              "\n",
              "          const docLinkHtml = 'Like what you see? Visit the ' +\n",
              "            '<a target=\"_blank\" href=https://colab.research.google.com/notebooks/data_table.ipynb>data table notebook</a>'\n",
              "            + ' to learn more about interactive tables.';\n",
              "          element.innerHTML = '';\n",
              "          dataTable['output_type'] = 'display_data';\n",
              "          await google.colab.output.renderOutput(dataTable, element);\n",
              "          const docLink = document.createElement('div');\n",
              "          docLink.innerHTML = docLinkHtml;\n",
              "          element.appendChild(docLink);\n",
              "        }\n",
              "      </script>\n",
              "    </div>\n",
              "  </div>\n",
              "  "
            ]
          },
          "metadata": {},
          "execution_count": 23
        }
      ]
    },
    {
      "cell_type": "code",
      "source": [
        "new_test_data.info()"
      ],
      "metadata": {
        "colab": {
          "base_uri": "https://localhost:8080/"
        },
        "id": "3t_I9-oVgQJc",
        "outputId": "1f20ea45-3b5f-49ff-ef0d-e308f57ef6ac"
      },
      "execution_count": null,
      "outputs": [
        {
          "output_type": "stream",
          "name": "stdout",
          "text": [
            "<class 'pandas.core.frame.DataFrame'>\n",
            "RangeIndex: 16708 entries, 0 to 16707\n",
            "Data columns (total 22 columns):\n",
            " #   Column               Non-Null Count  Dtype  \n",
            "---  ------               --------------  -----  \n",
            " 0   age                  16708 non-null  int64  \n",
            " 1   height(cm)           16708 non-null  int64  \n",
            " 2   weight(kg)           16708 non-null  int64  \n",
            " 3   waist(cm)            16708 non-null  float64\n",
            " 4   eyesight(left)       16708 non-null  float64\n",
            " 5   eyesight(right)      16708 non-null  float64\n",
            " 6   hearing(left)        16708 non-null  int64  \n",
            " 7   hearing(right)       16708 non-null  int64  \n",
            " 8   systolic             16708 non-null  int64  \n",
            " 9   relaxation           16708 non-null  int64  \n",
            " 10  fasting blood sugar  16708 non-null  int64  \n",
            " 11  Cholesterol          16708 non-null  int64  \n",
            " 12  triglyceride         16708 non-null  int64  \n",
            " 13  HDL                  16708 non-null  int64  \n",
            " 14  LDL                  16708 non-null  int64  \n",
            " 15  hemoglobin           16708 non-null  float64\n",
            " 16  Urine protein        16708 non-null  int64  \n",
            " 17  serum creatinine     16708 non-null  float64\n",
            " 18  AST                  16708 non-null  int64  \n",
            " 19  ALT                  16708 non-null  int64  \n",
            " 20  Gtp                  16708 non-null  int64  \n",
            " 21  dental caries        16708 non-null  int64  \n",
            "dtypes: float64(5), int64(17)\n",
            "memory usage: 2.8 MB\n"
          ]
        }
      ]
    },
    {
      "cell_type": "code",
      "source": [
        "input_data=new_test_data\n",
        "prediction = model.predict(input_data)\n",
        "#print(\"\\n\",prediction)\n",
        "res=pd.DataFrame(prediction)\n",
        "res.index=new_test_data.index\n",
        "res.columns=[\"prediction\"]\n",
        "res.to_csv(\"prediction_results_smoke_data.csv\")\n",
        "#files.download(\"prediction_results_smoke_data.csv\")\n",
        "#if (prediction[0]== 0):\n",
        "#  print('The Person does not Smoke')\n",
        "#else:\n",
        "#  print('The Person Smokes')"
      ],
      "metadata": {
        "id": "_JhHG3vGSW4W"
      },
      "execution_count": null,
      "outputs": []
    },
    {
      "cell_type": "markdown",
      "source": [
        "Downloading the Prediction file"
      ],
      "metadata": {
        "id": "rX_Ey_qLqji8"
      }
    },
    {
      "cell_type": "code",
      "source": [
        "from google.colab import files\n",
        "files.download(\"prediction_results_smoke_data.csv\")"
      ],
      "metadata": {
        "id": "tjytsTXWglEV",
        "colab": {
          "base_uri": "https://localhost:8080/",
          "height": 17
        },
        "outputId": "ddde8db7-28c3-45bb-c51b-9e0082bc8656"
      },
      "execution_count": null,
      "outputs": [
        {
          "output_type": "display_data",
          "data": {
            "text/plain": [
              "<IPython.core.display.Javascript object>"
            ],
            "application/javascript": [
              "\n",
              "    async function download(id, filename, size) {\n",
              "      if (!google.colab.kernel.accessAllowed) {\n",
              "        return;\n",
              "      }\n",
              "      const div = document.createElement('div');\n",
              "      const label = document.createElement('label');\n",
              "      label.textContent = `Downloading \"${filename}\": `;\n",
              "      div.appendChild(label);\n",
              "      const progress = document.createElement('progress');\n",
              "      progress.max = size;\n",
              "      div.appendChild(progress);\n",
              "      document.body.appendChild(div);\n",
              "\n",
              "      const buffers = [];\n",
              "      let downloaded = 0;\n",
              "\n",
              "      const channel = await google.colab.kernel.comms.open(id);\n",
              "      // Send a message to notify the kernel that we're ready.\n",
              "      channel.send({})\n",
              "\n",
              "      for await (const message of channel.messages) {\n",
              "        // Send a message to notify the kernel that we're ready.\n",
              "        channel.send({})\n",
              "        if (message.buffers) {\n",
              "          for (const buffer of message.buffers) {\n",
              "            buffers.push(buffer);\n",
              "            downloaded += buffer.byteLength;\n",
              "            progress.value = downloaded;\n",
              "          }\n",
              "        }\n",
              "      }\n",
              "      const blob = new Blob(buffers, {type: 'application/binary'});\n",
              "      const a = document.createElement('a');\n",
              "      a.href = window.URL.createObjectURL(blob);\n",
              "      a.download = filename;\n",
              "      div.appendChild(a);\n",
              "      a.click();\n",
              "      div.remove();\n",
              "    }\n",
              "  "
            ]
          },
          "metadata": {}
        },
        {
          "output_type": "display_data",
          "data": {
            "text/plain": [
              "<IPython.core.display.Javascript object>"
            ],
            "application/javascript": [
              "download(\"download_645a2dbd-3685-4341-ac3c-313633cf9755\", \"prediction_results_smoke_data.csv\", 122566)"
            ]
          },
          "metadata": {}
        }
      ]
    },
    {
      "cell_type": "markdown",
      "source": [
        "Random Forest Classifier"
      ],
      "metadata": {
        "id": "c00I2gWQrTow"
      }
    },
    {
      "cell_type": "code",
      "source": [
        "from sklearn.feature_selection import SelectFromModel\n",
        "from sklearn.metrics import accuracy_score, f1_score\n",
        "from sklearn.ensemble import RandomForestClassifier"
      ],
      "metadata": {
        "id": "2ga9mPLJbD6t"
      },
      "execution_count": 88,
      "outputs": []
    },
    {
      "cell_type": "code",
      "source": [
        "forest = RandomForestClassifier(random_state=1, n_estimators=1000, max_depth=5)\n",
        " \n",
        "forest.fit(X_train, Y_train)\n",
        "\n"
      ],
      "metadata": {
        "colab": {
          "base_uri": "https://localhost:8080/"
        },
        "id": "nO09MUznbOjt",
        "outputId": "b35bf913-73c3-4f6a-8aa9-0d4100e9f386"
      },
      "execution_count": 95,
      "outputs": [
        {
          "output_type": "execute_result",
          "data": {
            "text/plain": [
              "RandomForestClassifier(max_depth=5, n_estimators=1000, random_state=1)"
            ]
          },
          "metadata": {},
          "execution_count": 95
        }
      ]
    },
    {
      "cell_type": "markdown",
      "source": [
        "Boruta"
      ],
      "metadata": {
        "id": "rqYr8b-YrW6M"
      }
    },
    {
      "cell_type": "code",
      "source": [
        "!pip install boruta"
      ],
      "metadata": {
        "colab": {
          "base_uri": "https://localhost:8080/"
        },
        "id": "Qm3unEIDU8ZS",
        "outputId": "cb2d79af-8b13-4ce2-8920-872316e8f605"
      },
      "execution_count": null,
      "outputs": [
        {
          "output_type": "stream",
          "name": "stdout",
          "text": [
            "Collecting boruta\n",
            "  Downloading Boruta-0.3-py3-none-any.whl (56 kB)\n",
            "\u001b[?25l\r\u001b[K     |█████▉                          | 10 kB 19.8 MB/s eta 0:00:01\r\u001b[K     |███████████▋                    | 20 kB 12.7 MB/s eta 0:00:01\r\u001b[K     |█████████████████▍              | 30 kB 6.9 MB/s eta 0:00:01\r\u001b[K     |███████████████████████▏        | 40 kB 6.2 MB/s eta 0:00:01\r\u001b[K     |█████████████████████████████   | 51 kB 6.0 MB/s eta 0:00:01\r\u001b[K     |████████████████████████████████| 56 kB 2.6 MB/s \n",
            "\u001b[?25hRequirement already satisfied: numpy>=1.10.4 in /usr/local/lib/python3.7/dist-packages (from boruta) (1.21.6)\n",
            "Requirement already satisfied: scikit-learn>=0.17.1 in /usr/local/lib/python3.7/dist-packages (from boruta) (1.0.2)\n",
            "Requirement already satisfied: scipy>=0.17.0 in /usr/local/lib/python3.7/dist-packages (from boruta) (1.4.1)\n",
            "Requirement already satisfied: joblib>=0.11 in /usr/local/lib/python3.7/dist-packages (from scikit-learn>=0.17.1->boruta) (1.1.0)\n",
            "Requirement already satisfied: threadpoolctl>=2.0.0 in /usr/local/lib/python3.7/dist-packages (from scikit-learn>=0.17.1->boruta) (3.1.0)\n",
            "Installing collected packages: boruta\n",
            "Successfully installed boruta-0.3\n"
          ]
        }
      ]
    },
    {
      "cell_type": "code",
      "source": [
        "from boruta import BorutaPy\n"
      ],
      "metadata": {
        "id": "30Kid3yKXLhD"
      },
      "execution_count": 104,
      "outputs": []
    },
    {
      "cell_type": "code",
      "source": [
        "boruta_selector = BorutaPy(forest, n_estimators='auto', verbose=2, random_state=1)   # initialize the boruta selector\n",
        "boruta_selector.fit(np.array(X_train), np.array(Y_train))       #"
      ],
      "metadata": {
        "colab": {
          "base_uri": "https://localhost:8080/"
        },
        "id": "twbEAIJcbhIp",
        "outputId": "38bfea2a-c3a5-4812-b99a-44e51f4b7d14"
      },
      "execution_count": 111,
      "outputs": [
        {
          "output_type": "stream",
          "name": "stdout",
          "text": [
            "Iteration: \t1 / 100\n",
            "Confirmed: \t0\n",
            "Tentative: \t22\n",
            "Rejected: \t0\n",
            "Iteration: \t2 / 100\n",
            "Confirmed: \t0\n",
            "Tentative: \t22\n",
            "Rejected: \t0\n",
            "Iteration: \t3 / 100\n",
            "Confirmed: \t0\n",
            "Tentative: \t22\n",
            "Rejected: \t0\n",
            "Iteration: \t4 / 100\n",
            "Confirmed: \t0\n",
            "Tentative: \t22\n",
            "Rejected: \t0\n",
            "Iteration: \t5 / 100\n",
            "Confirmed: \t0\n",
            "Tentative: \t22\n",
            "Rejected: \t0\n",
            "Iteration: \t6 / 100\n",
            "Confirmed: \t0\n",
            "Tentative: \t22\n",
            "Rejected: \t0\n",
            "Iteration: \t7 / 100\n",
            "Confirmed: \t0\n",
            "Tentative: \t22\n",
            "Rejected: \t0\n",
            "Iteration: \t8 / 100\n",
            "Confirmed: \t19\n",
            "Tentative: \t0\n",
            "Rejected: \t3\n",
            "\n",
            "\n",
            "BorutaPy finished running.\n",
            "\n",
            "Iteration: \t9 / 100\n",
            "Confirmed: \t19\n",
            "Tentative: \t0\n",
            "Rejected: \t3\n"
          ]
        },
        {
          "output_type": "execute_result",
          "data": {
            "text/plain": [
              "BorutaPy(estimator=RandomForestClassifier(max_depth=5, n_estimators=132,\n",
              "                                          random_state=RandomState(MT19937) at 0x7FC0774E1380),\n",
              "         n_estimators='auto',\n",
              "         random_state=RandomState(MT19937) at 0x7FC0774E1380, verbose=2)"
            ]
          },
          "metadata": {},
          "execution_count": 111
        }
      ]
    },
    {
      "cell_type": "code",
      "source": [
        "print(\"Selected Features: \", boruta_selector.support_)    # check selected features\n",
        " \n",
        "\n",
        "print(\"Ranking: \",boruta_selector.ranking_)               # check ranking of features\n",
        "\n",
        "print(\"No. of significant features: \", boruta_selector.n_features_)\n"
      ],
      "metadata": {
        "colab": {
          "base_uri": "https://localhost:8080/"
        },
        "id": "tTj5QSgtb2n_",
        "outputId": "b4b35ca3-17b9-470b-e6ad-68e50ef0801d"
      },
      "execution_count": 112,
      "outputs": [
        {
          "output_type": "stream",
          "name": "stdout",
          "text": [
            "Selected Features:  [ True  True  True  True  True  True False False  True  True  True  True\n",
            "  True  True  True  True False  True  True  True  True  True]\n",
            "Ranking:  [1 1 1 1 1 1 4 3 1 1 1 1 1 1 1 1 2 1 1 1 1 1]\n",
            "No. of significant features:  19\n"
          ]
        }
      ]
    },
    {
      "cell_type": "code",
      "source": [
        "selected_rfe_features = pd.DataFrame({'Feature':list(X_train.columns),\n",
        "                                      'Ranking':boruta_selector.ranking_})\n",
        "selected_rfe_features.sort_values(by='Ranking')"
      ],
      "metadata": {
        "colab": {
          "base_uri": "https://localhost:8080/",
          "height": 739
        },
        "id": "VQ6NS-Wnb7_O",
        "outputId": "88066102-d979-4edd-a2d7-3097f5be8887"
      },
      "execution_count": 113,
      "outputs": [
        {
          "output_type": "execute_result",
          "data": {
            "text/plain": [
              "                Feature  Ranking\n",
              "0                   age        1\n",
              "19                  ALT        1\n",
              "18                  AST        1\n",
              "17     serum creatinine        1\n",
              "15           hemoglobin        1\n",
              "14                  LDL        1\n",
              "13                  HDL        1\n",
              "12         triglyceride        1\n",
              "11          Cholesterol        1\n",
              "20                  Gtp        1\n",
              "10  fasting blood sugar        1\n",
              "8              systolic        1\n",
              "5       eyesight(right)        1\n",
              "4        eyesight(left)        1\n",
              "3             waist(cm)        1\n",
              "2            weight(kg)        1\n",
              "1            height(cm)        1\n",
              "9            relaxation        1\n",
              "21        dental caries        1\n",
              "16        Urine protein        2\n",
              "7        hearing(right)        3\n",
              "6         hearing(left)        4"
            ],
            "text/html": [
              "\n",
              "  <div id=\"df-a8ccb57a-665c-475f-b9b9-654ff53bc74a\">\n",
              "    <div class=\"colab-df-container\">\n",
              "      <div>\n",
              "<style scoped>\n",
              "    .dataframe tbody tr th:only-of-type {\n",
              "        vertical-align: middle;\n",
              "    }\n",
              "\n",
              "    .dataframe tbody tr th {\n",
              "        vertical-align: top;\n",
              "    }\n",
              "\n",
              "    .dataframe thead th {\n",
              "        text-align: right;\n",
              "    }\n",
              "</style>\n",
              "<table border=\"1\" class=\"dataframe\">\n",
              "  <thead>\n",
              "    <tr style=\"text-align: right;\">\n",
              "      <th></th>\n",
              "      <th>Feature</th>\n",
              "      <th>Ranking</th>\n",
              "    </tr>\n",
              "  </thead>\n",
              "  <tbody>\n",
              "    <tr>\n",
              "      <th>0</th>\n",
              "      <td>age</td>\n",
              "      <td>1</td>\n",
              "    </tr>\n",
              "    <tr>\n",
              "      <th>19</th>\n",
              "      <td>ALT</td>\n",
              "      <td>1</td>\n",
              "    </tr>\n",
              "    <tr>\n",
              "      <th>18</th>\n",
              "      <td>AST</td>\n",
              "      <td>1</td>\n",
              "    </tr>\n",
              "    <tr>\n",
              "      <th>17</th>\n",
              "      <td>serum creatinine</td>\n",
              "      <td>1</td>\n",
              "    </tr>\n",
              "    <tr>\n",
              "      <th>15</th>\n",
              "      <td>hemoglobin</td>\n",
              "      <td>1</td>\n",
              "    </tr>\n",
              "    <tr>\n",
              "      <th>14</th>\n",
              "      <td>LDL</td>\n",
              "      <td>1</td>\n",
              "    </tr>\n",
              "    <tr>\n",
              "      <th>13</th>\n",
              "      <td>HDL</td>\n",
              "      <td>1</td>\n",
              "    </tr>\n",
              "    <tr>\n",
              "      <th>12</th>\n",
              "      <td>triglyceride</td>\n",
              "      <td>1</td>\n",
              "    </tr>\n",
              "    <tr>\n",
              "      <th>11</th>\n",
              "      <td>Cholesterol</td>\n",
              "      <td>1</td>\n",
              "    </tr>\n",
              "    <tr>\n",
              "      <th>20</th>\n",
              "      <td>Gtp</td>\n",
              "      <td>1</td>\n",
              "    </tr>\n",
              "    <tr>\n",
              "      <th>10</th>\n",
              "      <td>fasting blood sugar</td>\n",
              "      <td>1</td>\n",
              "    </tr>\n",
              "    <tr>\n",
              "      <th>8</th>\n",
              "      <td>systolic</td>\n",
              "      <td>1</td>\n",
              "    </tr>\n",
              "    <tr>\n",
              "      <th>5</th>\n",
              "      <td>eyesight(right)</td>\n",
              "      <td>1</td>\n",
              "    </tr>\n",
              "    <tr>\n",
              "      <th>4</th>\n",
              "      <td>eyesight(left)</td>\n",
              "      <td>1</td>\n",
              "    </tr>\n",
              "    <tr>\n",
              "      <th>3</th>\n",
              "      <td>waist(cm)</td>\n",
              "      <td>1</td>\n",
              "    </tr>\n",
              "    <tr>\n",
              "      <th>2</th>\n",
              "      <td>weight(kg)</td>\n",
              "      <td>1</td>\n",
              "    </tr>\n",
              "    <tr>\n",
              "      <th>1</th>\n",
              "      <td>height(cm)</td>\n",
              "      <td>1</td>\n",
              "    </tr>\n",
              "    <tr>\n",
              "      <th>9</th>\n",
              "      <td>relaxation</td>\n",
              "      <td>1</td>\n",
              "    </tr>\n",
              "    <tr>\n",
              "      <th>21</th>\n",
              "      <td>dental caries</td>\n",
              "      <td>1</td>\n",
              "    </tr>\n",
              "    <tr>\n",
              "      <th>16</th>\n",
              "      <td>Urine protein</td>\n",
              "      <td>2</td>\n",
              "    </tr>\n",
              "    <tr>\n",
              "      <th>7</th>\n",
              "      <td>hearing(right)</td>\n",
              "      <td>3</td>\n",
              "    </tr>\n",
              "    <tr>\n",
              "      <th>6</th>\n",
              "      <td>hearing(left)</td>\n",
              "      <td>4</td>\n",
              "    </tr>\n",
              "  </tbody>\n",
              "</table>\n",
              "</div>\n",
              "      <button class=\"colab-df-convert\" onclick=\"convertToInteractive('df-a8ccb57a-665c-475f-b9b9-654ff53bc74a')\"\n",
              "              title=\"Convert this dataframe to an interactive table.\"\n",
              "              style=\"display:none;\">\n",
              "        \n",
              "  <svg xmlns=\"http://www.w3.org/2000/svg\" height=\"24px\"viewBox=\"0 0 24 24\"\n",
              "       width=\"24px\">\n",
              "    <path d=\"M0 0h24v24H0V0z\" fill=\"none\"/>\n",
              "    <path d=\"M18.56 5.44l.94 2.06.94-2.06 2.06-.94-2.06-.94-.94-2.06-.94 2.06-2.06.94zm-11 1L8.5 8.5l.94-2.06 2.06-.94-2.06-.94L8.5 2.5l-.94 2.06-2.06.94zm10 10l.94 2.06.94-2.06 2.06-.94-2.06-.94-.94-2.06-.94 2.06-2.06.94z\"/><path d=\"M17.41 7.96l-1.37-1.37c-.4-.4-.92-.59-1.43-.59-.52 0-1.04.2-1.43.59L10.3 9.45l-7.72 7.72c-.78.78-.78 2.05 0 2.83L4 21.41c.39.39.9.59 1.41.59.51 0 1.02-.2 1.41-.59l7.78-7.78 2.81-2.81c.8-.78.8-2.07 0-2.86zM5.41 20L4 18.59l7.72-7.72 1.47 1.35L5.41 20z\"/>\n",
              "  </svg>\n",
              "      </button>\n",
              "      \n",
              "  <style>\n",
              "    .colab-df-container {\n",
              "      display:flex;\n",
              "      flex-wrap:wrap;\n",
              "      gap: 12px;\n",
              "    }\n",
              "\n",
              "    .colab-df-convert {\n",
              "      background-color: #E8F0FE;\n",
              "      border: none;\n",
              "      border-radius: 50%;\n",
              "      cursor: pointer;\n",
              "      display: none;\n",
              "      fill: #1967D2;\n",
              "      height: 32px;\n",
              "      padding: 0 0 0 0;\n",
              "      width: 32px;\n",
              "    }\n",
              "\n",
              "    .colab-df-convert:hover {\n",
              "      background-color: #E2EBFA;\n",
              "      box-shadow: 0px 1px 2px rgba(60, 64, 67, 0.3), 0px 1px 3px 1px rgba(60, 64, 67, 0.15);\n",
              "      fill: #174EA6;\n",
              "    }\n",
              "\n",
              "    [theme=dark] .colab-df-convert {\n",
              "      background-color: #3B4455;\n",
              "      fill: #D2E3FC;\n",
              "    }\n",
              "\n",
              "    [theme=dark] .colab-df-convert:hover {\n",
              "      background-color: #434B5C;\n",
              "      box-shadow: 0px 1px 3px 1px rgba(0, 0, 0, 0.15);\n",
              "      filter: drop-shadow(0px 1px 2px rgba(0, 0, 0, 0.3));\n",
              "      fill: #FFFFFF;\n",
              "    }\n",
              "  </style>\n",
              "\n",
              "      <script>\n",
              "        const buttonEl =\n",
              "          document.querySelector('#df-a8ccb57a-665c-475f-b9b9-654ff53bc74a button.colab-df-convert');\n",
              "        buttonEl.style.display =\n",
              "          google.colab.kernel.accessAllowed ? 'block' : 'none';\n",
              "\n",
              "        async function convertToInteractive(key) {\n",
              "          const element = document.querySelector('#df-a8ccb57a-665c-475f-b9b9-654ff53bc74a');\n",
              "          const dataTable =\n",
              "            await google.colab.kernel.invokeFunction('convertToInteractive',\n",
              "                                                     [key], {});\n",
              "          if (!dataTable) return;\n",
              "\n",
              "          const docLinkHtml = 'Like what you see? Visit the ' +\n",
              "            '<a target=\"_blank\" href=https://colab.research.google.com/notebooks/data_table.ipynb>data table notebook</a>'\n",
              "            + ' to learn more about interactive tables.';\n",
              "          element.innerHTML = '';\n",
              "          dataTable['output_type'] = 'display_data';\n",
              "          await google.colab.output.renderOutput(dataTable, element);\n",
              "          const docLink = document.createElement('div');\n",
              "          docLink.innerHTML = docLinkHtml;\n",
              "          element.appendChild(docLink);\n",
              "        }\n",
              "      </script>\n",
              "    </div>\n",
              "  </div>\n",
              "  "
            ]
          },
          "metadata": {},
          "execution_count": 113
        }
      ]
    },
    {
      "cell_type": "code",
      "source": [
        "X_important_train = boruta_selector.transform(np.array(X_train))\n",
        "X_important_test = boruta_selector.transform(np.array(X_test))\n"
      ],
      "metadata": {
        "id": "VoBpPCAPcURF"
      },
      "execution_count": 114,
      "outputs": []
    },
    {
      "cell_type": "code",
      "source": [
        "# Create a new random forest classifier for the most important features\n",
        "rf_important = RandomForestClassifier(random_state=1, n_estimators=1000, n_jobs = -1)\n",
        "\n",
        "# Train the new classifier on the new dataset containing the most important features\n",
        "rf_important.fit(X_important_train, Y_train)\n"
      ],
      "metadata": {
        "colab": {
          "base_uri": "https://localhost:8080/"
        },
        "id": "lE7iJ_osdAD3",
        "outputId": "1b5caa42-c16f-4ec9-80ce-8b1d13942979"
      },
      "execution_count": 115,
      "outputs": [
        {
          "output_type": "execute_result",
          "data": {
            "text/plain": [
              "RandomForestClassifier(n_estimators=1000, n_jobs=-1, random_state=1)"
            ]
          },
          "metadata": {},
          "execution_count": 115
        }
      ]
    },
    {
      "cell_type": "code",
      "source": [
        "y_important_pred = rf_important.predict(X_important_test)\n",
        "rf_imp_fscore = f1_score(Y_test, y_important_pred)\n"
      ],
      "metadata": {
        "id": "3dUFnk-wdDEJ"
      },
      "execution_count": 117,
      "outputs": []
    },
    {
      "cell_type": "code",
      "source": [
        "print(rf_imp_fscore)"
      ],
      "metadata": {
        "colab": {
          "base_uri": "https://localhost:8080/"
        },
        "id": "_hHOzra8dQN9",
        "outputId": "41c91c0e-0f32-465c-ccd6-a15589c7e2ae"
      },
      "execution_count": 118,
      "outputs": [
        {
          "output_type": "stream",
          "name": "stdout",
          "text": [
            "0.7165043432482232\n"
          ]
        }
      ]
    },
    {
      "cell_type": "markdown",
      "source": [
        "Hyper Parameter Tunning"
      ],
      "metadata": {
        "id": "ioSl3bunrbLz"
      }
    },
    {
      "cell_type": "code",
      "source": [
        "from sklearn.model_selection import GridSearchCV\n",
        "# Create the parameter grid based on the results of random search \n",
        "param_grid = {\n",
        "    'bootstrap': [True, False],\n",
        "    'max_depth': [5, 10, 15],\n",
        "    'n_estimators': [500, 1000]}"
      ],
      "metadata": {
        "id": "VKWwqGWKdWAW"
      },
      "execution_count": 119,
      "outputs": []
    },
    {
      "cell_type": "code",
      "source": [
        "rf = RandomForestClassifier(random_state = 1)\n",
        "\n",
        "# Grid search cv\n",
        "grid_search = GridSearchCV(estimator = rf, param_grid = param_grid, \n",
        "                          cv = 2, n_jobs = -1, verbose = 2)\n"
      ],
      "metadata": {
        "id": "FBwhJ8JWdZje"
      },
      "execution_count": 120,
      "outputs": []
    },
    {
      "cell_type": "code",
      "source": [
        "grid_search.fit(X_important_train, Y_train)\n"
      ],
      "metadata": {
        "colab": {
          "base_uri": "https://localhost:8080/"
        },
        "id": "HLZzrawEdcct",
        "outputId": "1ba95474-8b9d-4605-84ee-f3221e61e384"
      },
      "execution_count": 121,
      "outputs": [
        {
          "output_type": "stream",
          "name": "stdout",
          "text": [
            "Fitting 2 folds for each of 12 candidates, totalling 24 fits\n"
          ]
        },
        {
          "output_type": "execute_result",
          "data": {
            "text/plain": [
              "GridSearchCV(cv=2, estimator=RandomForestClassifier(random_state=1), n_jobs=-1,\n",
              "             param_grid={'bootstrap': [True, False], 'max_depth': [5, 10, 15],\n",
              "                         'n_estimators': [500, 1000]},\n",
              "             verbose=2)"
            ]
          },
          "metadata": {},
          "execution_count": 121
        }
      ]
    },
    {
      "cell_type": "code",
      "source": [
        "grid_search.best_params_\n"
      ],
      "metadata": {
        "colab": {
          "base_uri": "https://localhost:8080/"
        },
        "id": "EziU9x9ydfCF",
        "outputId": "0453a2a2-8e64-4de5-eeaf-ddb90d6bc852"
      },
      "execution_count": 122,
      "outputs": [
        {
          "output_type": "execute_result",
          "data": {
            "text/plain": [
              "{'bootstrap': True, 'max_depth': 15, 'n_estimators': 1000}"
            ]
          },
          "metadata": {},
          "execution_count": 122
        }
      ]
    },
    {
      "cell_type": "code",
      "source": [
        "\n",
        "\n",
        "pred = grid_search.predict(X_important_test)\n",
        "\n",
        "f1_score(Y_test, pred)"
      ],
      "metadata": {
        "colab": {
          "base_uri": "https://localhost:8080/"
        },
        "id": "oLWNkoytdgzF",
        "outputId": "4262be83-74a3-474b-a3a1-7ba547f31516"
      },
      "execution_count": 124,
      "outputs": [
        {
          "output_type": "execute_result",
          "data": {
            "text/plain": [
              "0.7094635848233756"
            ]
          },
          "metadata": {},
          "execution_count": 124
        }
      ]
    },
    {
      "cell_type": "code",
      "source": [
        "imp_test_features = boruta_selector.transform(np.array(new_test_data))\n"
      ],
      "metadata": {
        "id": "PxLyBXMZexu4"
      },
      "execution_count": 125,
      "outputs": []
    },
    {
      "cell_type": "code",
      "source": [
        "prediction = grid_search.predict(imp_test_features)"
      ],
      "metadata": {
        "id": "CT211PjDfBzV"
      },
      "execution_count": 126,
      "outputs": []
    },
    {
      "cell_type": "code",
      "source": [
        "res = pd.DataFrame(prediction)\n",
        "res.index = new_test_data.index \n",
        "res.columns = [\"prediction\"]\n",
        "\n",
        "res.to_csv(\"prediction_results_smoke_data.csv\") \n",
        "files.download(\"prediction_results_smoke_data.csv\")\n"
      ],
      "metadata": {
        "colab": {
          "base_uri": "https://localhost:8080/",
          "height": 17
        },
        "id": "vgwPTzZyfDN_",
        "outputId": "6b34c18c-c0e3-4eb0-8b2c-84e6eecb6243"
      },
      "execution_count": 128,
      "outputs": [
        {
          "output_type": "display_data",
          "data": {
            "text/plain": [
              "<IPython.core.display.Javascript object>"
            ],
            "application/javascript": [
              "\n",
              "    async function download(id, filename, size) {\n",
              "      if (!google.colab.kernel.accessAllowed) {\n",
              "        return;\n",
              "      }\n",
              "      const div = document.createElement('div');\n",
              "      const label = document.createElement('label');\n",
              "      label.textContent = `Downloading \"${filename}\": `;\n",
              "      div.appendChild(label);\n",
              "      const progress = document.createElement('progress');\n",
              "      progress.max = size;\n",
              "      div.appendChild(progress);\n",
              "      document.body.appendChild(div);\n",
              "\n",
              "      const buffers = [];\n",
              "      let downloaded = 0;\n",
              "\n",
              "      const channel = await google.colab.kernel.comms.open(id);\n",
              "      // Send a message to notify the kernel that we're ready.\n",
              "      channel.send({})\n",
              "\n",
              "      for await (const message of channel.messages) {\n",
              "        // Send a message to notify the kernel that we're ready.\n",
              "        channel.send({})\n",
              "        if (message.buffers) {\n",
              "          for (const buffer of message.buffers) {\n",
              "            buffers.push(buffer);\n",
              "            downloaded += buffer.byteLength;\n",
              "            progress.value = downloaded;\n",
              "          }\n",
              "        }\n",
              "      }\n",
              "      const blob = new Blob(buffers, {type: 'application/binary'});\n",
              "      const a = document.createElement('a');\n",
              "      a.href = window.URL.createObjectURL(blob);\n",
              "      a.download = filename;\n",
              "      div.appendChild(a);\n",
              "      a.click();\n",
              "      div.remove();\n",
              "    }\n",
              "  "
            ]
          },
          "metadata": {}
        },
        {
          "output_type": "display_data",
          "data": {
            "text/plain": [
              "<IPython.core.display.Javascript object>"
            ],
            "application/javascript": [
              "download(\"download_16adb22b-bd71-4fd1-8e11-d367016ec6a8\", \"prediction_results_smoke_data.csv\", 122566)"
            ]
          },
          "metadata": {}
        }
      ]
    }
  ]
}